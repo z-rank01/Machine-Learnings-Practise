{
 "cells": [
  {
   "cell_type": "code",
   "execution_count": 2,
   "metadata": {},
   "outputs": [
    {
     "name": "stdout",
     "output_type": "stream",
     "text": [
      "['ml-100k/README', 'ml-100k/allbut.pl', 'ml-100k/mku.sh', 'ml-100k/u.data', 'ml-100k/u.genre', 'ml-100k/u.info', 'ml-100k/u.item', 'ml-100k/u.occupation', 'ml-100k/u.user', 'ml-100k/u1.base', 'ml-100k/u1.test', 'ml-100k/u2.base', 'ml-100k/u2.test', 'ml-100k/u3.base', 'ml-100k/u3.test', 'ml-100k/u4.base', 'ml-100k/u4.test', 'ml-100k/u5.base', 'ml-100k/u5.test', 'ml-100k/ua.base', 'ml-100k/ua.test', 'ml-100k/ub.base', 'ml-100k/ub.test']\n",
      "[[ 195  241    3]\n",
      " [ 185  301    3]\n",
      " [  21  376    1]\n",
      " ...\n",
      " [ 275 1089    1]\n",
      " [  12  224    2]\n",
      " [  11  202    3]]\n",
      "(100000, 3) int32\n",
      "users number: 943 movies number: 1682\n"
     ]
    }
   ],
   "source": [
    "# Matrix Factorization\n",
    "import zipfile\n",
    "import os\n",
    "import numpy as np\n",
    "import matplotlib.pyplot as plt\n",
    "\n",
    "# load data\n",
    "with zipfile.ZipFile('archive.zip', 'r') as zipdata:\n",
    "    print(zipdata.namelist())\n",
    "    zipdata.extractall()\n",
    "    zipdata.close()\n",
    "\n",
    "raw_data = np.loadtxt('ml-100k/u.data', dtype='int', delimiter='\\t')\n",
    "# print(raw_data)\n",
    "# print(raw_data.shape)\n",
    "\n",
    "data = raw_data[:, :3]\n",
    "data[:, :2] = data[:, :2] - 1\n",
    "print(data)\n",
    "print(data.shape, data.dtype)\n",
    "print(f'users number: {len(np.unique(data[:,0]))} movies number: {len(np.unique(data[:,1]))}')"
   ]
  },
  {
   "cell_type": "code",
   "execution_count": 7,
   "metadata": {},
   "outputs": [
    {
     "name": "stdout",
     "output_type": "stream",
     "text": [
      "[223  53  45  19 140 171 325  46  19 147]\n",
      "[360 111  70 167  73  21 321 186 240  73]\n"
     ]
    }
   ],
   "source": [
    "# data preprocessing\n",
    "np.random.seed(0)\n",
    "\n",
    "# randomize and split data\n",
    "ratio = 0.8\n",
    "split_idx = int(len(data) * ratio)\n",
    "# data = np.random.permutation(data) \n",
    "np.random.shuffle(data)  # two ways to randomize data\n",
    "train_data = data[:split_idx, :]\n",
    "test_data = data[split_idx:, :]\n",
    "\n",
    "# calculate number of users and movies occurancy for L2 norm\n",
    "user_unique = len(np.unique(data[:,0]))\n",
    "movie_unique = len(np.unique(data[:,1]))\n",
    "user_occurancy = np.bincount(train_data[:, 0], minlength=user_unique)\n",
    "movie_occurancy = np.bincount(train_data[:, 1], minlength=movie_unique)\n",
    "print(user_occurancy[:10])\n",
    "print(movie_occurancy[:10])\n",
    "\n",
    "# construct matrix data with extracting every attributes' data\n",
    "user_train, user_test = train_data[:, 0], test_data[:, 0]\n",
    "movie_train, movie_test = test_data[:, 1], test_data[:, 1]\n",
    "y_train, y_test = train_data[:, 2], test_data[:, 2]"
   ]
  },
  {
   "cell_type": "code",
   "execution_count": 17,
   "metadata": {},
   "outputs": [
    {
     "name": "stdout",
     "output_type": "stream",
     "text": [
      "[0.48118852417052815, 0.25110474665825105, 0.1881917951331153, 0.15782321281958933, 0.1397657832376271, 0.12769472633738643, 0.11899188683359346, 0.11237987477908645, 0.10716125820755439, 0.10292211302522525, 0.09940037605230947, 0.09642140739449617, 0.09386392844638702, 0.0916408426393836, 0.08968784776203485, 0.08795636260776171, 0.08640896069338289, 0.08501632328769816, 0.08375514752098732, 0.0826066744433342, 0.08155563095618668, 0.0805894549364405, 0.07969771838279124, 0.07887169170630347, 0.07810401034770845, 0.07738841671140152, 0.07671955829315227, 0.07609282824992471, 0.075504238382921, 0.07495031712623716]\n",
      "[4.060359444503421, 2.236156626169731, 1.4565168900921706, 1.040450340404437, 0.7908098018209565, 0.6293763559181638, 0.5191946411423051, 0.4407492277610012, 0.3829127469799436, 0.3389750095002218, 0.30471160280144666, 0.27736928030101954, 0.2551006334889785, 0.23663425892343776, 0.22107509920487067, 0.20777986773343574, 0.19627730655979106, 0.18621599402855774, 0.17732949908309878, 0.169412691553235, 0.1623053635441624, 0.15588072497097705, 0.150037200535147, 0.1446924964595988, 0.13977924992000945, 0.1352417971066622, 0.13103374224877065, 0.1271161073485355, 0.1234559080252808, 0.120025045657974]\n"
     ]
    },
    {
     "data": {
      "image/png": "[encoded data removed]",
      "text/plain": [
       "<Figure size 640x480 with 1 Axes>"
      ]
     },
     "metadata": {},
     "output_type": "display_data"
    }
   ],
   "source": [
    "# Matrix Factorization\n",
    "class MatrixFactorization(object):\n",
    "\n",
    "    # initialize parameters for two matrix\n",
    "    def __init__(self, num_user, num_movie, d) -> None:\n",
    "        self.user_params = np.ones((num_user, d))    # shape: num_user x dimension\n",
    "        self.movie_params = np.ones((num_movie, d))  # shape: num_movie x dimension\n",
    "\n",
    "    def predict(self, user_id, movie_id):\n",
    "        user_param = self.user_params[user_id]\n",
    "        movie_param = self.movie_params[movie_id]\n",
    "        prediction = np.sum(user_param * movie_param, axis=1) # equals to user_param.T @ movie_param\n",
    "        return prediction\n",
    "    \n",
    "    def optimize(self, user_grads, movie_grads, learning_rate):\n",
    "        self.user_params -= learning_rate * user_grads\n",
    "        self.movie_params -= learning_rate * movie_grads\n",
    "    \n",
    "    def fit(self, user_train, movie_train, y_train, user_test, movie_test, y_test, epochs, batch_size, lr, lbd):\n",
    "        train_losses = []\n",
    "        test_losses = []\n",
    "        batch_num = int(np.ceil(len(user_train) / batch_size))\n",
    "        for epoch in range(epochs):\n",
    "            train_rmse = 0\n",
    "            for i in range(batch_num):\n",
    "                # construct batches\n",
    "                start = i * batch_size\n",
    "                end = min(len(user_train), start + batch_size)\n",
    "                user_batch = user_train[start:end]\n",
    "                movie_batch = movie_train[start:end]\n",
    "                y_batch = y_train[start:end]\n",
    "                if(user_batch.shape[0] != movie_batch.shape[0]):\n",
    "                    break\n",
    "                # fit\n",
    "                y_hat = self.predict(user_batch, movie_batch)\n",
    "                # loss\n",
    "                difference = y_batch - y_hat\n",
    "                loss = np.mean(difference ** 2)\n",
    "                train_rmse += loss\n",
    "                # optimize\n",
    "                P = self.user_params\n",
    "                Q = self.movie_params\n",
    "                P_grad = np.zeros_like(P)\n",
    "                Q_grad = np.zeros_like(Q)\n",
    "                for user, movie, diff in zip(user_batch, movie_batch, difference):\n",
    "                    P_grad[user] = P_grad[user] - diff * Q[movie] + lbd * P[user]\n",
    "                    Q_grad[movie] = Q_grad[movie] - diff * P[user] + lbd * Q[movie]\n",
    "                self.optimize(P_grad / len(user_batch), Q_grad / len(movie_batch), lr)\n",
    "            # evaluate train and test rmse\n",
    "            train_rmse = np.sqrt(train_rmse / len(user_train))\n",
    "            train_losses.append(train_rmse)\n",
    "\n",
    "            y_pred = self.predict(user_test, movie_test)\n",
    "            test_rmse = np.sqrt(np.mean(y_test - y_pred) ** 2)\n",
    "            test_losses.append(test_rmse)\n",
    "        return train_losses, test_losses\n",
    "\n",
    "# hyper paramters\n",
    "feature_dimension = 16\n",
    "learning_rate = 0.1\n",
    "lbd = 1e-4\n",
    "n_epoch = 30\n",
    "batch_size = 64\n",
    "\n",
    "MF = MatrixFactorization(user_unique, movie_unique, feature_dimension)\n",
    "train_losses, test_losses = MF.fit(user_train, movie_train, y_train, \n",
    "                                   user_test, movie_test, y_test, \n",
    "                                   n_epoch, batch_size, learning_rate, lbd)\n",
    "print(train_losses)\n",
    "print(test_losses)\n",
    "\n",
    "# visualize loss curve\n",
    "plt.figure()\n",
    "x = np.arange(n_epoch) + 1\n",
    "plt.plot(x, train_losses, \n",
    "         color='blue', \n",
    "         label='train loss', \n",
    "         alpha=0.6)\n",
    "plt.plot(x, test_losses, \n",
    "         color='red', \n",
    "         label='test loss', \n",
    "         alpha=0.6)\n",
    "plt.xlabel('Epoch')\n",
    "plt.ylabel('loss')\n",
    "plt.legend(loc='best')\n",
    "plt.show()"
   ]
  }
 ],
 "metadata": {
  "kernelspec": {
   "display_name": "env_datascience",
   "language": "python",
   "name": "env_datascience"
  },
  "language_info": {
   "codemirror_mode": {
    "name": "ipython",
    "version": 3
   },
   "file_extension": ".py",
   "mimetype": "text/x-python",
   "name": "python",
   "nbconvert_exporter": "python",
   "pygments_lexer": "ipython3",
   "version": "3.10.11"
  }
 },
 "nbformat": 4,
 "nbformat_minor": 2
}
