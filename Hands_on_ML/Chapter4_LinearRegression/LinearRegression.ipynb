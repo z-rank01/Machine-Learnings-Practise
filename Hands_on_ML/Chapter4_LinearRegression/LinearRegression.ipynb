{
 "cells": [
  {
   "cell_type": "code",
   "execution_count": 14,
   "metadata": {},
   "outputs": [
    {
     "name": "stdout",
     "output_type": "stream",
     "text": [
      "   Avg. Area Income  Avg. Area House Age  Avg. Area Number of Rooms  \\\n",
      "0      79545.458574             5.682861                   7.009188   \n",
      "1      79248.642455             6.002900                   6.730821   \n",
      "2      61287.067179             5.865890                   8.512727   \n",
      "3      63345.240046             7.188236                   5.586729   \n",
      "4      59982.197226             5.040555                   7.839388   \n",
      "\n",
      "   Avg. Area Number of Bedrooms  Area Population         Price  \n",
      "0                          4.09     23086.800503  1.059034e+06  \n",
      "1                          3.09     40173.072174  1.505891e+06  \n",
      "2                          5.13     36882.159400  1.058988e+06  \n",
      "3                          3.26     34310.242831  1.260617e+06  \n",
      "4                          4.23     26354.109472  6.309435e+05  \n"
     ]
    }
   ],
   "source": [
    "import pandas as pd\n",
    "import numpy as np\n",
    "import matplotlib.pyplot as plt\n",
    "from matplotlib.ticker import MaxNLocator\n",
    "\n",
    "# show up the USA housing dataset\n",
    "\n",
    "# using pandas:\n",
    "df = pd.read_csv('USA_Housing.csv')\n",
    "print(df.head(5))"
   ]
  },
  {
   "cell_type": "code",
   "execution_count": 15,
   "metadata": {},
   "outputs": [
    {
     "name": "stdout",
     "output_type": "stream",
     "text": [
      "features:  Avg. Area Income, Avg. Area House Age, Avg. Area Number of Rooms, Avg. Area Number of Bedrooms, Area Population\n",
      "labels:  Price\n",
      "total:  5000\n"
     ]
    }
   ],
   "source": [
    "# using numpy:\n",
    "columns = [0, 1, 2, 3, 4, 5]\n",
    "raw_data = np.loadtxt('USA_Housing.csv', dtype='str', delimiter=',', usecols=columns)\n",
    "header = raw_data[0]\n",
    "raw_data = raw_data[1:].astype(float)\n",
    "print('features: ', ', '.join(header[:-1]))\n",
    "print('labels: ', header[-1])\n",
    "print('total: ', len(raw_data))"
   ]
  },
  {
   "cell_type": "code",
   "execution_count": 17,
   "metadata": {},
   "outputs": [
    {
     "name": "stdout",
     "output_type": "stream",
     "text": [
      "[[ 0.59845204  0.49458479 -0.50102415 -0.576436   -0.02464793]\n",
      " [ 0.79181445  0.29469692  0.67398752 -0.5116069  -0.83711922]\n",
      " [-0.45037171 -0.2999339  -0.55461532 -1.60559787 -0.3570006 ]] [ 0.1021356   0.62659557 -1.22866089]\n"
     ]
    }
   ],
   "source": [
    "# data preparation\n",
    "\n",
    "# 1. randomize the dataset order\n",
    "data = np.random.permutation(raw_data)\n",
    "\n",
    "# 2. standardize the dataset\n",
    "from sklearn.preprocessing import StandardScaler\n",
    "\n",
    "ss = StandardScaler()\n",
    "ss.fit(data)\n",
    "data = ss.transform(data)\n",
    "\n",
    "# 3. split data into training and testing part\n",
    "ratio = 0.8\n",
    "split_index = int(len(data) * ratio)\n",
    "train, test = data[:split_index, :], data[split_index:, :]\n",
    "\n",
    "X_train, y_train = train[:, :-1], train[:, -1].flatten()\n",
    "X_test, y_test = test[:, :-1], test[:, -1].flatten()\n",
    "\n",
    "print(X_train[:3], y_train[:3])"
   ]
  },
  {
   "cell_type": "code",
   "execution_count": 19,
   "metadata": {},
   "outputs": [
    {
     "name": "stdout",
     "output_type": "stream",
     "text": [
      "RMSE:  0.2864875860127391\n"
     ]
    }
   ],
   "source": [
    "# a. Analytical solution\n",
    "# 1. calculating theta\n",
    "# 2. compute X @ theta\n",
    "# 3. evaluation with RMSE\n",
    "\n",
    "# adding a constant column\n",
    "X = np.concatenate([X_train, np.ones((len(X_train), 1))], axis=-1)\n",
    "\n",
    "# calculate theta\n",
    "theta = np.linalg.inv(X.T @ X) @ X.T @ y_train\n",
    "\n",
    "# predict using analytical solution\n",
    "x_test = np.concatenate([X_test, np.ones((len(X_test), 1))], axis=-1)\n",
    "pred = x_test @ theta\n",
    "\n",
    "# evaluate with RMSE\n",
    "rmse_loss = np.sqrt(np.square(y_test - pred).mean())\n",
    "print('RMSE: ', rmse_loss)"
   ]
  },
  {
   "cell_type": "code",
   "execution_count": 20,
   "metadata": {},
   "outputs": [
    {
     "name": "stdout",
     "output_type": "stream",
     "text": [
      "RMSE:  0.2864875860127391\n"
     ]
    }
   ],
   "source": [
    "# b. linear regression with sklearn\n",
    "from sklearn.linear_model import LinearRegression\n",
    "\n",
    "lr = LinearRegression()\n",
    "lr.fit(X_train, y_train)\n",
    "y_pred = lr.predict(X_test)\n",
    "\n",
    "rmse_loss = np.sqrt(np.square(y_test - y_pred).mean())\n",
    "print('RMSE: ', rmse_loss)"
   ]
  }
 ],
 "metadata": {
  "kernelspec": {
   "display_name": "env_datascience",
   "language": "python",
   "name": "env_datascience"
  },
  "language_info": {
   "name": "python",
   "version": "3.10.11"
  }
 },
 "nbformat": 4,
 "nbformat_minor": 2
}
