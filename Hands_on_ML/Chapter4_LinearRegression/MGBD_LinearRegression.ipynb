{
 "cells": [
  {
   "cell_type": "code",
   "execution_count": 3,
   "metadata": {},
   "outputs": [
    {
     "name": "stdout",
     "output_type": "stream",
     "text": [
      "features:  Avg. Area Income, Avg. Area House Age, Avg. Area Number of Rooms, Avg. Area Number of Bedrooms, Area Population\n",
      "labels:  Price\n",
      "total:  5000\n"
     ]
    }
   ],
   "source": [
    "# MGBD, Mini-batch Gradient Decent\n",
    "import numpy as np\n",
    "import matplotlib.pyplot as plt\n",
    "\n",
    "# load housing data\n",
    "data = np.loadtxt('USA_Housing.csv', delimiter=',', dtype='str')\n",
    "header = data[0]\n",
    "data = data[1:].astype(float)\n",
    "print('features: ', ', '.join(header[:-1]))\n",
    "print('labels: ', header[-1])\n",
    "print('total: ', len(data))"
   ]
  },
  {
   "cell_type": "code",
   "execution_count": 5,
   "metadata": {},
   "outputs": [
    {
     "name": "stdout",
     "output_type": "stream",
     "text": [
      "[[-0.51041798  0.13640126  0.31668214  1.98431323 -0.26056381]\n",
      " [ 1.33560586 -0.89754066 -0.14673162 -1.24903785  0.06974078]\n",
      " [-0.77659278  0.25747415  0.9664829   0.38789678  0.1588442 ]] [-0.41513785  0.44158301  0.44664152]\n"
     ]
    }
   ],
   "source": [
    "# data preparation\n",
    "\n",
    "# 1. randomize the dataset order\n",
    "data = np.random.permutation(data)\n",
    "\n",
    "# 2. standardize the dataset\n",
    "from sklearn.preprocessing import StandardScaler\n",
    "\n",
    "ss = StandardScaler()\n",
    "ss.fit(data)\n",
    "data = ss.transform(data)\n",
    "\n",
    "# 3. split data into training and testing part\n",
    "ratio = 0.8\n",
    "split_index = int(len(data) * ratio)\n",
    "train, test = data[:split_index, :], data[split_index:, :]\n",
    "\n",
    "X_train, y_train = train[:, :-1], train[:, -1].flatten()\n",
    "X_test, y_test = test[:, :-1], test[:, -1].flatten()\n",
    "\n",
    "print(X_train[:3], y_train[:3])"
   ]
  },
  {
   "cell_type": "code",
   "execution_count": 8,
   "metadata": {},
   "outputs": [
    {
     "name": "stdout",
     "output_type": "stream",
     "text": [
      "coefficience:  [6.51604601e-01 4.64993589e-01 3.46460156e-01 2.82293114e-03\n",
      " 4.26386301e-01 6.49088316e-05]\n"
     ]
    },
    {
     "data": {
      "image/png": "[encoded data removed]",
      "text/plain": [
       "<Figure size 640x480 with 1 Axes>"
      ]
     },
     "metadata": {},
     "output_type": "display_data"
    }
   ],
   "source": [
    "# mini-batch\n",
    "def batching(X, y, batch_size, shuffle=True):\n",
    "    # randomize original data\n",
    "    if shuffle:\n",
    "        idx = np.random.permutation(len(X))\n",
    "        X = X[idx]\n",
    "        y = y[idx]\n",
    "    \n",
    "    # generate batches\n",
    "    batch_count = 0\n",
    "    while True:\n",
    "        idx_start = batch_count * batch_size\n",
    "        idx_end = min(idx_start + batch_size, len(X))\n",
    "        if idx_start >= idx_end:\n",
    "            break\n",
    "        batch_count += 1\n",
    "        yield X[idx_start:idx_end], y[idx_start:idx_end]\n",
    "\n",
    "def loss(y_hat, y):\n",
    "    return np.square(y_hat - y).sum()\n",
    "\n",
    "def MBGD(n_epoch, learning_rate, batch_size):\n",
    "    X = np.concatenate([X_train, np.ones((len(X_train), 1))], axis=-1)\n",
    "    x_test = np.concatenate([X_test, np.ones((len(X_test), 1))], axis=-1)\n",
    "    theta = np.random.normal(size=X.shape[1])\n",
    "\n",
    "    train_losses = []\n",
    "    test_losses = []\n",
    "    for i in range(n_epoch):\n",
    "        batches = batching(X, y_train, batch_size, shuffle=True)\n",
    "        train_loss = 0\n",
    "        for X_batch, y_batch in batches:\n",
    "            grad = X_batch.T @ (X_batch @ theta - y_batch)\n",
    "            theta = theta - learning_rate * grad / len(X_batch)\n",
    "            train_loss += loss(X_batch @ theta, y_batch)\n",
    "        train_loss = np.sqrt(train_loss / len(X))\n",
    "        train_losses.append(train_loss)\n",
    "        test_loss = np.sqrt(loss(x_test @ theta, y_test) / len(x_test))  # for test data, we do not need batching, \n",
    "        test_losses.append(test_loss)                                    # so we calculate loss on whole set\n",
    "    \n",
    "    print('coefficient: ', theta)\n",
    "    return theta, train_losses, test_losses\n",
    "\n",
    "n_epochs = 20\n",
    "learning_rate = 0.01\n",
    "batch_size = 32\n",
    "np.random.seed(0)\n",
    "\n",
    "# fitting\n",
    "_, train_losses, test_losses = MBGD(n_epochs, learning_rate, batch_size)\n",
    "\n",
    "# visualization\n",
    "plt.plot(np.arange(n_epochs), train_losses, \n",
    "         color='blue', label='train loss', alpha=0.6)\n",
    "plt.plot(np.arange(n_epochs), test_losses, \n",
    "         color='red', linestyle='--', label='test loss', alpha=0.6)\n",
    "plt.xlabel('Epoch')\n",
    "plt.ylabel('RMSE')\n",
    "plt.legend()\n",
    "plt.show()"
   ]
  }
 ],
 "metadata": {
  "kernelspec": {
   "display_name": "env_datascience",
   "language": "python",
   "name": "env_datascience"
  },
  "language_info": {
   "codemirror_mode": {
    "name": "ipython",
    "version": 3
   },
   "file_extension": ".py",
   "mimetype": "text/x-python",
   "name": "python",
   "nbconvert_exporter": "python",
   "pygments_lexer": "ipython3",
   "version": "3.10.11"
  }
 },
 "nbformat": 4,
 "nbformat_minor": 2
}
