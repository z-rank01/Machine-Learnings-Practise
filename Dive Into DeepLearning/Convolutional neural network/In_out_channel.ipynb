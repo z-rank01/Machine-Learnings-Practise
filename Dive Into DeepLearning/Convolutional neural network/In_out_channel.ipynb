{
 "cells": [
  {
   "cell_type": "code",
   "execution_count": 6,
   "metadata": {},
   "outputs": [
    {
     "name": "stdout",
     "output_type": "stream",
     "text": [
      "tensor([[ 56.,  72.],\n",
      "        [104., 120.]])\n"
     ]
    }
   ],
   "source": [
    "# in channel and out channel\n",
    "import torch\n",
    "from d2l import torch as d2l\n",
    "\n",
    "# multiple in-channel\n",
    "# -------------------\n",
    "def multi_in_corr2d(X, K):\n",
    "    return sum(d2l.corr2d(x, k) for x, k in zip(X, K))  # traverse input X and kernel K and \n",
    "                                                        # compute cross-correlation of every subset\n",
    "\n",
    "X = torch.tensor([[[0.0, 1.0, 2.0], [3.0, 4.0, 5.0], [6.0, 7.0, 8.0]],\n",
    "               [[1.0, 2.0, 3.0], [4.0, 5.0, 6.0], [7.0, 8.0, 9.0]]])\n",
    "K = torch.tensor([[[0.0, 1.0], [2.0, 3.0]], [[1.0, 2.0], [3.0, 4.0]]])\n",
    "\n",
    "print(multi_in_corr2d(X, K))"
   ]
  },
  {
   "cell_type": "code",
   "execution_count": 7,
   "metadata": {},
   "outputs": [
    {
     "name": "stdout",
     "output_type": "stream",
     "text": [
      "torch.Size([3, 2, 2, 2])\n",
      "tensor([[[ 56.,  72.],\n",
      "         [104., 120.]],\n",
      "\n",
      "        [[ 76., 100.],\n",
      "         [148., 172.]],\n",
      "\n",
      "        [[ 96., 128.],\n",
      "         [192., 224.]]])\n"
     ]
    }
   ],
   "source": [
    "# multi out-channel\n",
    "\n",
    "def multi_in_out_corr2d(X, K):\n",
    "    return torch.stack([multi_in_corr2d(X, k) for k in K], 0)\n",
    "\n",
    "K = torch.stack((K, K + 1, K + 2), 0)    # 3 out-channel\n",
    "print(K.shape)                           # the shapes of K are [out-channel, in-channel, height(n_rows), width(n_columns)]\n",
    "print(multi_in_out_corr2d(X, K))"
   ]
  },
  {
   "cell_type": "code",
   "execution_count": 9,
   "metadata": {},
   "outputs": [
    {
     "name": "stdout",
     "output_type": "stream",
     "text": [
      "tensor([[[-0.0356, -0.7028, -0.1476],\n",
      "         [-0.4722, -0.4097, -0.6582],\n",
      "         [ 1.0104,  0.8743,  0.5525]],\n",
      "\n",
      "        [[ 0.0515,  2.2388, -2.8437],\n",
      "         [ 0.7046,  6.6494, -4.0016],\n",
      "         [ 0.2126, -1.1708, -1.7709]]])\n",
      "tensor([[[-0.0356, -0.7028, -0.1476],\n",
      "         [-0.4722, -0.4097, -0.6582],\n",
      "         [ 1.0104,  0.8743,  0.5525]],\n",
      "\n",
      "        [[ 0.0515,  2.2388, -2.8437],\n",
      "         [ 0.7046,  6.6494, -4.0016],\n",
      "         [ 0.2126, -1.1708, -1.7709]]])\n",
      "tensor([[[True, True, True],\n",
      "         [True, True, True],\n",
      "         [True, True, True]],\n",
      "\n",
      "        [[True, True, True],\n",
      "         [True, True, True],\n",
      "         [True, True, True]]])\n"
     ]
    }
   ],
   "source": [
    "# 1x1 kernel convolution\n",
    "\n",
    "def multi_in_out_1x1_corr2d(X, K):\n",
    "    c_in, h, w = X.shape\n",
    "    c_out = K.shape[0]\n",
    "    X = X.reshape((c_in, h * w))\n",
    "    K = K.reshape((c_out, c_in))\n",
    "    y = torch.matmul(K, X)\n",
    "    return y.reshape((c_out, h, w))\n",
    "\n",
    "X = torch.normal(0, 1, (3, 3, 3))     # 3 in-channel, height, width\n",
    "K = torch.normal(0, 1, (2, 3, 1, 1))  # 2 out-channel, 3 in-channel, height, width \n",
    "Y1 = multi_in_out_1x1_corr2d(X, K)\n",
    "Y2 = multi_in_out_corr2d(X, K)\n",
    "print(Y1)\n",
    "print(Y1)\n",
    "print(Y1 == Y2)"
   ]
  }
 ],
 "metadata": {
  "kernelspec": {
   "display_name": "Datawhale",
   "language": "python",
   "name": "datawhale"
  },
  "language_info": {
   "codemirror_mode": {
    "name": "ipython",
    "version": 3
   },
   "file_extension": ".py",
   "mimetype": "text/x-python",
   "name": "python",
   "nbconvert_exporter": "python",
   "pygments_lexer": "ipython3",
   "version": "3.10.12"
  },
  "orig_nbformat": 4
 },
 "nbformat": 4,
 "nbformat_minor": 2
}
