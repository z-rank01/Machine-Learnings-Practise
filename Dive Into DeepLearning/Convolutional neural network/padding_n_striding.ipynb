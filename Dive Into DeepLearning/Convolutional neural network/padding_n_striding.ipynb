{
 "cells": [
  {
   "cell_type": "code",
   "execution_count": 6,
   "metadata": {},
   "outputs": [
    {
     "name": "stdout",
     "output_type": "stream",
     "text": [
      "torch.Size([8, 8])\n",
      "torch.Size([8, 8])\n"
     ]
    }
   ],
   "source": [
    "import torch\n",
    "from torch import nn\n",
    "\n",
    "# padding\n",
    "# -------\n",
    "\n",
    "def comp_cro_cor(conv2d, X):\n",
    "    X = X.reshape((1, 1) + X.shape)\n",
    "    y = conv2d(X)\n",
    "    return y.reshape(y.shape[2:])\n",
    "\n",
    "# example 1\n",
    "X = torch.rand((8, 8))\n",
    "conv2d = nn.Conv2d(1, 1, kernel_size=3, padding=1)  # 3x3 kernel, 1 padding for both vertical and horizontal\n",
    "print(comp_cro_cor(conv2d, X).shape)\n",
    "\n",
    "# example 2\n",
    "conv2d = nn.Conv2d(1, 1, kernel_size=(5, 3), padding=(2, 1))  # 5x3 kernel, 2 padding for vertical, 1 padding for horizontal\n",
    "print(comp_cro_cor(conv2d, X).shape)"
   ]
  },
  {
   "cell_type": "code",
   "execution_count": 7,
   "metadata": {},
   "outputs": [
    {
     "name": "stdout",
     "output_type": "stream",
     "text": [
      "torch.Size([4, 4])\n",
      "torch.Size([2, 2])\n"
     ]
    }
   ],
   "source": [
    "# striding\n",
    "# --------\n",
    "\n",
    "conv2d = nn.Conv2d(1, 1, kernel_size=3, padding=1, stride=2)\n",
    "print(comp_cro_cor(conv2d, X).shape)\n",
    "\n",
    "conv2d = nn.Conv2d(1, 1, kernel_size=(3, 5), padding=(0, 1), stride=(3, 4))\n",
    "print(comp_cro_cor(conv2d, X).shape)"
   ]
  }
 ],
 "metadata": {
  "kernelspec": {
   "display_name": "Datawhale",
   "language": "python",
   "name": "datawhale"
  },
  "language_info": {
   "codemirror_mode": {
    "name": "ipython",
    "version": 3
   },
   "file_extension": ".py",
   "mimetype": "text/x-python",
   "name": "python",
   "nbconvert_exporter": "python",
   "pygments_lexer": "ipython3",
   "version": "3.10.12"
  },
  "orig_nbformat": 4
 },
 "nbformat": 4,
 "nbformat_minor": 2
}
