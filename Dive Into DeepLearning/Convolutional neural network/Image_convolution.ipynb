{
 "cells": [
  {
   "cell_type": "code",
   "execution_count": 1,
   "metadata": {},
   "outputs": [
    {
     "name": "stdout",
     "output_type": "stream",
     "text": [
      "tensor([[19., 25.],\n",
      "        [37., 43.]])\n"
     ]
    }
   ],
   "source": [
    "# image convolution and cross-correlation\n",
    "\n",
    "import torch\n",
    "from torch import nn\n",
    "\n",
    "# define cross-correlation function\n",
    "# = convolution\n",
    "def cro_cor(X, kernel):\n",
    "    h, w = kernel.shape\n",
    "    y = torch.zeros((X.shape[0] - h + 1, X.shape[1] - w + 1))\n",
    "    for i in range(y.shape[0]):\n",
    "        for j in range(y.shape[1]):\n",
    "            y[i, j] = (X[i:i+h, j:j+w] * kernel).sum()\n",
    "    return y\n",
    "\n",
    "# test function with simple example\n",
    "X = torch.tensor([[0.0, 1.0, 2.0], [3.0, 4.0, 5.0], [6.0, 7.0, 8.0]])\n",
    "k = torch.tensor([[0.0, 1.0], [2.0, 3.0]])\n",
    "\n",
    "y = cro_cor(X, k)\n",
    "print(y)"
   ]
  },
  {
   "cell_type": "code",
   "execution_count": 2,
   "metadata": {},
   "outputs": [
    {
     "name": "stdout",
     "output_type": "stream",
     "text": [
      "tensor([[1., 1., 0., 0., 0., 0., 1., 1.],\n",
      "        [1., 1., 0., 0., 0., 0., 1., 1.],\n",
      "        [1., 1., 0., 0., 0., 0., 1., 1.],\n",
      "        [1., 1., 0., 0., 0., 0., 1., 1.],\n",
      "        [1., 1., 0., 0., 0., 0., 1., 1.],\n",
      "        [1., 1., 0., 0., 0., 0., 1., 1.]])\n",
      "tensor([[ 0.,  1.,  0.,  0.,  0., -1.,  0.],\n",
      "        [ 0.,  1.,  0.,  0.,  0., -1.,  0.],\n",
      "        [ 0.,  1.,  0.,  0.,  0., -1.,  0.],\n",
      "        [ 0.,  1.,  0.,  0.,  0., -1.,  0.],\n",
      "        [ 0.,  1.,  0.,  0.,  0., -1.,  0.],\n",
      "        [ 0.,  1.,  0.,  0.,  0., -1.,  0.]])\n",
      "tensor([[0., 0., 0., 0., 0.],\n",
      "        [0., 0., 0., 0., 0.],\n",
      "        [0., 0., 0., 0., 0.],\n",
      "        [0., 0., 0., 0., 0.],\n",
      "        [0., 0., 0., 0., 0.],\n",
      "        [0., 0., 0., 0., 0.],\n",
      "        [0., 0., 0., 0., 0.],\n",
      "        [0., 0., 0., 0., 0.]])\n",
      "tensor([[ 0.,  0.,  0.,  0.,  0.,  0.],\n",
      "        [ 1.,  1.,  1.,  1.,  1.,  1.],\n",
      "        [ 0.,  0.,  0.,  0.,  0.,  0.],\n",
      "        [ 0.,  0.,  0.,  0.,  0.,  0.],\n",
      "        [ 0.,  0.,  0.,  0.,  0.,  0.],\n",
      "        [-1., -1., -1., -1., -1., -1.],\n",
      "        [ 0.,  0.,  0.,  0.,  0.,  0.]])\n"
     ]
    }
   ],
   "source": [
    "# custom layer\n",
    "class Conv2D(nn.Module):\n",
    "    def __init__(self, kernel_size) -> None:\n",
    "        super().__init__()\n",
    "        self.weight = nn.Parameter(torch.rand(kernel_size), requires_grad=True)\n",
    "        self.bias = nn.Parameter(torch.zeros(1), requires_grad=True)\n",
    "    \n",
    "    def forward(self, X):\n",
    "        return cro_cor(X, self.weight)#  + self.bias\n",
    "    \n",
    "# test edge\n",
    "# ---------\n",
    "# manully cross-correlation computation\n",
    "X = torch.ones((6, 8))\n",
    "X[:, 2:6] = 0\n",
    "print(X)\n",
    "\n",
    "kernel_edge = torch.tensor([[1.0, -1.0]])  # this kernel can only detect vertical edge\n",
    "y = cro_cor(X, kernel_edge)\n",
    "print(y)                                   # successfully detect edge\n",
    "\n",
    "print(cro_cor(X.t(), kernel_edge))         # unsucceed\n",
    "print(cro_cor(X.t(), kernel_edge.t()))     # succeed"
   ]
  },
  {
   "cell_type": "code",
   "execution_count": 3,
   "metadata": {},
   "outputs": [
    {
     "name": "stdout",
     "output_type": "stream",
     "text": [
      "epoch 2, loss 6.111\n",
      "epoch 4, loss 1.434\n",
      "epoch 6, loss 0.342\n",
      "epoch 8, loss 0.082\n",
      "epoch 10, loss 0.020\n",
      "tensor([[ 0.9718, -0.9715]])\n"
     ]
    }
   ],
   "source": [
    "# most of the time we cannot self make a kernel because we wont know the pattern\n",
    "# so we have to learn the kernel to detect the possible edge\n",
    "conv2d = nn.Conv2d(1, 1, kernel_size=(1, 2), bias=False)  # in_channel, out_channel = 1, 1 we suppose\n",
    "conv2d_cus = Conv2D((1, 2))\n",
    "# features and labels should be the same shape\n",
    "X_copy = X.reshape((1, 1, 6, 8))   # features\n",
    "y_copy = y.reshape((1, 1, 6, 7))   # labels\n",
    "lr = 25e-3\n",
    "\n",
    "n_epochs = 10\n",
    "for i in range(n_epochs):\n",
    "    y_hat = conv2d_cus(X)\n",
    "    l = (y_hat - y) ** 2\n",
    "    conv2d_cus.zero_grad()\n",
    "    l.sum().backward()\n",
    "    conv2d_cus.weight.data[:] -= conv2d_cus.weight.grad * lr\n",
    "    # conv2d_cus.bias.data[:] -= conv2d_cus.bias.grad * lr\n",
    "    if (i + 1) % 2 == 0:\n",
    "        print(f'epoch {i+1}, loss {l.sum():.3f}')\n",
    "\n",
    "print(conv2d_cus.weight.data.reshape((1, 2)))  # we successfully learn the kernel(like the manully created one)"
   ]
  }
 ],
 "metadata": {
  "kernelspec": {
   "display_name": "DeepLearning-Pytorch",
   "language": "python",
   "name": "deeplearning-pytorch"
  },
  "language_info": {
   "codemirror_mode": {
    "name": "ipython",
    "version": 3
   },
   "file_extension": ".py",
   "mimetype": "text/x-python",
   "name": "python",
   "nbconvert_exporter": "python",
   "pygments_lexer": "ipython3",
   "version": "3.9.17"
  },
  "orig_nbformat": 4
 },
 "nbformat": 4,
 "nbformat_minor": 2
}
