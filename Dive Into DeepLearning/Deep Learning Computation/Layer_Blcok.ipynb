{
 "cells": [
  {
   "cell_type": "code",
   "execution_count": 5,
   "metadata": {},
   "outputs": [
    {
     "name": "stdout",
     "output_type": "stream",
     "text": [
      "tensor([[0.0026, 0.9660, 0.7406, 0.8116, 0.2081, 0.3626, 0.6210, 0.5437, 0.8135,\n",
      "         0.9073, 0.0816, 0.1030, 0.0515, 0.8680, 0.1650, 0.3615, 0.6745, 0.0812,\n",
      "         0.3723, 0.5914],\n",
      "        [0.7617, 0.3930, 0.3635, 0.8710, 0.4179, 0.0435, 0.3794, 0.1799, 0.8731,\n",
      "         0.7385, 0.1241, 0.4651, 0.3932, 0.3704, 0.8045, 0.0097, 0.0369, 0.2830,\n",
      "         0.4269, 0.7453]])\n"
     ]
    }
   ],
   "source": [
    "# layer and block\n",
    "import torch\n",
    "from torch import nn\n",
    "from torch.nn import functional as f\n",
    "\n",
    "# create a test data\n",
    "X = torch.rand(2, 20)\n",
    "print(X)"
   ]
  },
  {
   "cell_type": "code",
   "execution_count": 6,
   "metadata": {},
   "outputs": [
    {
     "name": "stdout",
     "output_type": "stream",
     "text": [
      "tensor([[ 3.0620e-01, -8.1479e-02, -1.7422e-01, -1.1966e-01, -2.6504e-01,\n",
      "         -1.7143e-01,  1.0597e-01,  6.9276e-02, -3.7697e-02, -5.6737e-03],\n",
      "        [ 1.6414e-01,  1.1049e-02, -1.7023e-01, -1.4671e-01, -2.1039e-01,\n",
      "         -2.0458e-01, -1.3002e-04, -1.3449e-01, -2.8038e-03,  2.2289e-02]],\n",
      "       grad_fn=<AddmmBackward0>)\n"
     ]
    }
   ],
   "source": [
    "# basic usage of squential\n",
    "net = nn.Sequential(nn.Linear(20, 256), nn.ReLU(), nn.Linear(256, 10))\n",
    "print(net(X))"
   ]
  },
  {
   "cell_type": "code",
   "execution_count": 7,
   "metadata": {},
   "outputs": [
    {
     "name": "stdout",
     "output_type": "stream",
     "text": [
      "tensor([[-0.1995,  0.1781,  0.1064, -0.0460, -0.2364, -0.1100,  0.0382,  0.0466,\n",
      "         -0.0532, -0.2014],\n",
      "        [-0.3185,  0.2561,  0.0763, -0.0489, -0.1881, -0.0921, -0.0415,  0.0336,\n",
      "         -0.1436, -0.1656]], grad_fn=<AddmmBackward0>)\n"
     ]
    }
   ],
   "source": [
    "# customized block with arbitrary layers\n",
    "# --------------------------------------\n",
    "\n",
    "# Block 1: full connected layer\n",
    "class MLP(nn.Module):\n",
    "    def __init__(self) -> None:\n",
    "        super().__init__()\n",
    "        self.hidden = nn.Linear(20, 256)\n",
    "        self.out = nn.Linear(256, 10)\n",
    "\n",
    "    def forward(self, X):\n",
    "        return self.out(f.relu(self.hidden(X)))\n",
    "    \n",
    "net = MLP()\n",
    "print(net(X))"
   ]
  },
  {
   "cell_type": "code",
   "execution_count": 8,
   "metadata": {},
   "outputs": [
    {
     "name": "stdout",
     "output_type": "stream",
     "text": [
      "tensor([[-0.0673, -0.0860, -0.2318,  0.0573, -0.1608,  0.0356,  0.0756, -0.0374,\n",
      "         -0.1062, -0.1630],\n",
      "        [-0.1487,  0.0629, -0.0747,  0.1166, -0.1223,  0.0828, -0.0277,  0.0346,\n",
      "         -0.0611, -0.1534]], grad_fn=<AddmmBackward0>)\n"
     ]
    }
   ],
   "source": [
    "# Block 2: customized sequences\n",
    "class MySequential(nn.Module):\n",
    "    def __init__(self, *args) -> None:\n",
    "        super().__init__()\n",
    "        for idx, module in enumerate(args):\n",
    "            self._modules[str(idx)] = module\n",
    "    \n",
    "    def forward(self, X):\n",
    "        for net in self._modules.values():\n",
    "            X = net(X)\n",
    "        return X\n",
    "    \n",
    "net = MySequential(nn.Linear(20, 256), nn.ReLU(), nn.Linear(256, 10))\n",
    "print(net(X))"
   ]
  },
  {
   "cell_type": "code",
   "execution_count": 9,
   "metadata": {},
   "outputs": [
    {
     "name": "stdout",
     "output_type": "stream",
     "text": [
      "tensor(-0.0907, grad_fn=<SumBackward0>)\n"
     ]
    }
   ],
   "source": [
    "# Block 3: python operation in layers\n",
    "class FixedHiddenMLP(nn.Module):\n",
    "    def __init__(self) -> None:\n",
    "        super().__init__()\n",
    "        self.linear = nn.Linear(20, 20)\n",
    "        self.rand_weight = torch.rand((20, 20), requires_grad=False)  # work as a constant\n",
    "    \n",
    "    def forward(self, X):\n",
    "        X = self.linear(X)\n",
    "        X = f.relu(torch.mm(X, self.rand_weight) + 1)\n",
    "        X = self.linear(X)\n",
    "        while X.abs().sum() > 1:\n",
    "            X /= 2\n",
    "        return X.sum()\n",
    "    \n",
    "net = FixedHiddenMLP()\n",
    "print(net(X))"
   ]
  },
  {
   "cell_type": "code",
   "execution_count": 11,
   "metadata": {},
   "outputs": [
    {
     "data": {
      "text/plain": [
       "tensor(-0.0563, grad_fn=<SumBackward0>)"
      ]
     },
     "execution_count": 11,
     "metadata": {},
     "output_type": "execute_result"
    }
   ],
   "source": [
    "# Block 3: nested blocks and layers\n",
    "class NestMLP(nn.Module):\n",
    "    def __init__(self) -> None:\n",
    "        super().__init__()\n",
    "        self.net = nn.Sequential(nn.Linear(20, 64), nn.ReLU(), \n",
    "                                 nn.Linear(64, 32), nn.ReLU())\n",
    "        self.linear = nn.Linear(32, 16)\n",
    "    \n",
    "    def forward(self, X):\n",
    "        return self.linear(self.net(X))\n",
    "    \n",
    "chimera = nn.Sequential(NestMLP(), nn.Linear(16, 20), FixedHiddenMLP())\n",
    "chimera(X)"
   ]
  }
 ],
 "metadata": {
  "kernelspec": {
   "display_name": "Datawhale",
   "language": "python",
   "name": "datawhale"
  },
  "language_info": {
   "codemirror_mode": {
    "name": "ipython",
    "version": 3
   },
   "file_extension": ".py",
   "mimetype": "text/x-python",
   "name": "python",
   "nbconvert_exporter": "python",
   "pygments_lexer": "ipython3",
   "version": "3.10.12"
  },
  "orig_nbformat": 4
 },
 "nbformat": 4,
 "nbformat_minor": 2
}
