{
 "cells": [
  {
   "cell_type": "code",
   "execution_count": 2,
   "metadata": {},
   "outputs": [
    {
     "name": "stdout",
     "output_type": "stream",
     "text": [
      "tensor([0, 1, 2, 3])\n",
      "tensor([0, 1, 2, 3])\n"
     ]
    }
   ],
   "source": [
    "# save and load tensor or paramters of network\n",
    "import torch\n",
    "from torch import nn\n",
    "from torch.nn import functional as F\n",
    "\n",
    "# save and load tensor\n",
    "x = torch.arange(4)\n",
    "print(x)\n",
    "torch.save(x, 'x_file')\n",
    "\n",
    "x1 = torch.load('x_file')\n",
    "print(x1)"
   ]
  },
  {
   "cell_type": "code",
   "execution_count": 3,
   "metadata": {},
   "outputs": [
    {
     "name": "stdout",
     "output_type": "stream",
     "text": [
      "(tensor([0, 1, 2, 3]), tensor([0., 0., 0., 0.]))\n",
      "(tensor([0, 1, 2, 3]), tensor([0., 0., 0., 0.]))\n"
     ]
    }
   ],
   "source": [
    "# save and load tensor list\n",
    "y = torch.zeros(4)\n",
    "torch.save([x, y], 'x_y_file')\n",
    "print((x, y))\n",
    "\n",
    "x2, y2 = torch.load('x_y_file')\n",
    "print((x2, y2))"
   ]
  },
  {
   "cell_type": "code",
   "execution_count": 4,
   "metadata": {},
   "outputs": [
    {
     "name": "stdout",
     "output_type": "stream",
     "text": [
      "{'x': tensor([0, 1, 2, 3]), 'y': tensor([0., 0., 0., 0.])}\n",
      "{'x': tensor([0, 1, 2, 3]), 'y': tensor([0., 0., 0., 0.])}\n"
     ]
    }
   ],
   "source": [
    "# save and load tensor dictionary\n",
    "dict = {'x' : x, 'y' : y}\n",
    "torch.save(dict, 'dict_file')\n",
    "print(dict)\n",
    "\n",
    "dict1 = torch.load('dict_file')\n",
    "print(dict1)"
   ]
  },
  {
   "cell_type": "code",
   "execution_count": 7,
   "metadata": {},
   "outputs": [
    {
     "name": "stdout",
     "output_type": "stream",
     "text": [
      "tensor([[-0.0348,  0.0393,  0.0886,  0.2006, -0.3367,  0.1010,  0.0754, -0.1596,\n",
      "         -0.0327,  0.2550],\n",
      "        [-0.0833,  0.1148,  0.1399,  0.2755,  0.0047,  0.1125,  0.1894, -0.1546,\n",
      "          0.3588,  0.0715]], grad_fn=<AddmmBackward0>)\n",
      "tensor([[-0.0348,  0.0393,  0.0886,  0.2006, -0.3367,  0.1010,  0.0754, -0.1596,\n",
      "         -0.0327,  0.2550],\n",
      "        [-0.0833,  0.1148,  0.1399,  0.2755,  0.0047,  0.1125,  0.1894, -0.1546,\n",
      "          0.3588,  0.0715]], grad_fn=<AddmmBackward0>)\n",
      "tensor([[True, True, True, True, True, True, True, True, True, True],\n",
      "        [True, True, True, True, True, True, True, True, True, True]])\n"
     ]
    }
   ],
   "source": [
    "# save and load model throught parameters\n",
    "class MLP(nn.Module):\n",
    "    def __init__(self):\n",
    "        super().__init__()\n",
    "        self.hidden = nn.Linear(20, 256)\n",
    "        self.output = nn.Linear(256, 10)\n",
    "\n",
    "    def forward(self, x):\n",
    "        return self.output(F.relu(self.hidden(x)))\n",
    "\n",
    "net = MLP()\n",
    "X = torch.randn(size=(2, 20))\n",
    "y = net(X)\n",
    "\n",
    "# save\n",
    "torch.save(net.state_dict(), 'mlp_param_file')\n",
    "print(y)\n",
    "\n",
    "# load: we have to instance a MLP() object to retrieve saved parameters\n",
    "net_clone = MLP()\n",
    "net_clone.load_state_dict(torch.load('mlp_param_file'))\n",
    "y_clone = net_clone(X)\n",
    "print(y_clone)\n",
    "print(y_clone == y)"
   ]
  }
 ],
 "metadata": {
  "kernelspec": {
   "display_name": "Datawhale",
   "language": "python",
   "name": "datawhale"
  },
  "language_info": {
   "codemirror_mode": {
    "name": "ipython",
    "version": 3
   },
   "file_extension": ".py",
   "mimetype": "text/x-python",
   "name": "python",
   "nbconvert_exporter": "python",
   "pygments_lexer": "ipython3",
   "version": "3.10.12"
  },
  "orig_nbformat": 4
 },
 "nbformat": 4,
 "nbformat_minor": 2
}
