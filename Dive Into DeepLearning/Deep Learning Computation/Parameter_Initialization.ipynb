{
 "cells": [
  {
   "cell_type": "code",
   "execution_count": 3,
   "metadata": {},
   "outputs": [
    {
     "name": "stdout",
     "output_type": "stream",
     "text": [
      "tensor([[0.7380, 0.8025, 0.0534, 0.8484],\n",
      "        [0.0476, 0.0154, 0.0187, 0.8408]])\n",
      "tensor([[-0.1628],\n",
      "        [ 0.1541]], grad_fn=<AddmmBackward0>)\n"
     ]
    }
   ],
   "source": [
    "# access and modify parameters in neural network\n",
    "# ----------------------------------------------\n",
    "# a. access target layer parameters\n",
    "# b. access whole layers parameters\n",
    "# c. access complicated block layer paramters\n",
    "\n",
    "import torch\n",
    "from torch import nn\n",
    "\n",
    "net = nn.Sequential(nn.Linear(4, 8), nn.ReLU(), nn.Linear(8, 1))\n",
    "X = torch.rand(2, 4)\n",
    "print(X)\n",
    "print(net(X))"
   ]
  },
  {
   "cell_type": "code",
   "execution_count": 18,
   "metadata": {},
   "outputs": [
    {
     "name": "stdout",
     "output_type": "stream",
     "text": [
      "OrderedDict([('weight', tensor([[ 0.1779,  0.1888,  0.1514,  0.1997,  0.3381,  0.0964,  0.0334, -0.3471]])), ('bias', tensor([-0.0466]))])\n",
      "<generator object Module.parameters at 0x0000024BE3F8EAB0>\n"
     ]
    }
   ],
   "source": [
    "# a.1. print target layer paramters:\n",
    "# regard sequential as a list\n",
    "print(net[2].state_dict())  # 'state_dict' prints all parameters and dtyppes\n",
    "print(net[2].parameters())  # 'parameters' prints that parameters are iterable generator object, included all parameters"
   ]
  },
  {
   "cell_type": "code",
   "execution_count": 19,
   "metadata": {},
   "outputs": [
    {
     "name": "stdout",
     "output_type": "stream",
     "text": [
      "<class 'torch.nn.parameter.Parameter'>\n",
      "Parameter containing:\n",
      "tensor([-0.0466], requires_grad=True)\n",
      "tensor([-0.0466])\n",
      "Parameter containing:\n",
      "tensor([[ 0.1779,  0.1888,  0.1514,  0.1997,  0.3381,  0.0964,  0.0334, -0.3471]],\n",
      "       requires_grad=True)\n",
      "tensor([[ 0.1779,  0.1888,  0.1514,  0.1997,  0.3381,  0.0964,  0.0334, -0.3471]])\n"
     ]
    }
   ],
   "source": [
    "# a.2. access target layer paramter:\n",
    "print(type(net[2].bias))    # print type of bias of the third layer(output layer)\n",
    "print(net[2].bias)          # print information of bias of included data and gradients\n",
    "print(net[2].bias.data)     # print precisely data of bias\n",
    "print(net[2].weight)        # print information of weights of included data and gradients\n",
    "print(net[2].weight.data)   # print precisely data of weights"
   ]
  },
  {
   "cell_type": "code",
   "execution_count": 7,
   "metadata": {},
   "outputs": [
    {
     "name": "stdout",
     "output_type": "stream",
     "text": [
      "True\n",
      "True\n"
     ]
    }
   ],
   "source": [
    "# a.3. access target layer gradients:\n",
    "print(net[2].weight.grad == None)\n",
    "print(net[2].bias.grad == None)"
   ]
  },
  {
   "cell_type": "code",
   "execution_count": 20,
   "metadata": {},
   "outputs": [
    {
     "name": "stdout",
     "output_type": "stream",
     "text": [
      "('weight', Parameter containing:\n",
      "tensor([[-0.3416,  0.1208, -0.4908,  0.3961],\n",
      "        [-0.2082, -0.4059, -0.3134,  0.0500],\n",
      "        [-0.2749, -0.1384,  0.4878,  0.1137],\n",
      "        [ 0.3319,  0.1241, -0.0963, -0.0970],\n",
      "        [-0.0232,  0.0821,  0.3725,  0.0660],\n",
      "        [-0.3434,  0.2402,  0.3705,  0.3277],\n",
      "        [-0.4538, -0.3022,  0.2685, -0.4972],\n",
      "        [ 0.4379,  0.3505,  0.0551, -0.1680]], requires_grad=True)) ('bias', Parameter containing:\n",
      "tensor([-0.1668,  0.4347,  0.1727, -0.1870,  0.1206, -0.3694, -0.2640,  0.1490],\n",
      "       requires_grad=True))\n",
      "('0.weight', Parameter containing:\n",
      "tensor([[-0.3416,  0.1208, -0.4908,  0.3961],\n",
      "        [-0.2082, -0.4059, -0.3134,  0.0500],\n",
      "        [-0.2749, -0.1384,  0.4878,  0.1137],\n",
      "        [ 0.3319,  0.1241, -0.0963, -0.0970],\n",
      "        [-0.0232,  0.0821,  0.3725,  0.0660],\n",
      "        [-0.3434,  0.2402,  0.3705,  0.3277],\n",
      "        [-0.4538, -0.3022,  0.2685, -0.4972],\n",
      "        [ 0.4379,  0.3505,  0.0551, -0.1680]], requires_grad=True)) ('0.bias', Parameter containing:\n",
      "tensor([-0.1668,  0.4347,  0.1727, -0.1870,  0.1206, -0.3694, -0.2640,  0.1490],\n",
      "       requires_grad=True)) ('2.weight', Parameter containing:\n",
      "tensor([[ 0.1779,  0.1888,  0.1514,  0.1997,  0.3381,  0.0964,  0.0334, -0.3471]],\n",
      "       requires_grad=True)) ('2.bias', Parameter containing:\n",
      "tensor([-0.0466], requires_grad=True))\n"
     ]
    }
   ],
   "source": [
    "# b. access all layers paramters\n",
    "print(*[(name, param) for name, param in net[0].named_parameters()])  # access single layer parameters\n",
    "print(*[(name, param) for name, param in net.named_parameters()])     # access all layers parameters"
   ]
  },
  {
   "cell_type": "code",
   "execution_count": 16,
   "metadata": {},
   "outputs": [
    {
     "name": "stdout",
     "output_type": "stream",
     "text": [
      "Sequential(\n",
      "  (0): Sequential(\n",
      "    (block 0): Sequential(\n",
      "      (0): Linear(in_features=4, out_features=8, bias=True)\n",
      "      (1): ReLU()\n",
      "      (2): Linear(in_features=8, out_features=4, bias=True)\n",
      "      (3): ReLU()\n",
      "    )\n",
      "    (block 1): Sequential(\n",
      "      (0): Linear(in_features=4, out_features=8, bias=True)\n",
      "      (1): ReLU()\n",
      "      (2): Linear(in_features=8, out_features=4, bias=True)\n",
      "      (3): ReLU()\n",
      "    )\n",
      "    (block 2): Sequential(\n",
      "      (0): Linear(in_features=4, out_features=8, bias=True)\n",
      "      (1): ReLU()\n",
      "      (2): Linear(in_features=8, out_features=4, bias=True)\n",
      "      (3): ReLU()\n",
      "    )\n",
      "    (block 3): Sequential(\n",
      "      (0): Linear(in_features=4, out_features=8, bias=True)\n",
      "      (1): ReLU()\n",
      "      (2): Linear(in_features=8, out_features=4, bias=True)\n",
      "      (3): ReLU()\n",
      "    )\n",
      "  )\n",
      "  (1): Linear(in_features=4, out_features=1, bias=True)\n",
      ")\n",
      "network[0][1][0] bias:\n",
      " tensor([-0.0535,  0.3259,  0.0235,  0.1311, -0.4188, -0.3510, -0.0011, -0.0601])\n"
     ]
    }
   ],
   "source": [
    "# c. block paramters\n",
    "def block1():\n",
    "    return nn.Sequential(nn.Linear(4, 8), nn.ReLU(),\n",
    "                         nn.Linear(8, 4), nn.ReLU())\n",
    "\n",
    "def block2():\n",
    "    net = nn.Sequential()\n",
    "    for i in range(4):\n",
    "        # 在这里嵌套\n",
    "        net.add_module(f'block {i}', block1())\n",
    "    return net\n",
    "\n",
    "rgnet = nn.Sequential(block2(), nn.Linear(4, 1))\n",
    "print(rgnet)  # see how blocks are presented\n",
    "\n",
    "# access paramters of every part of the blcoks\n",
    "print('network[0][1][0] bias:\\n', rgnet[0][1][0].bias.data)"
   ]
  },
  {
   "cell_type": "code",
   "execution_count": 26,
   "metadata": {},
   "outputs": [
    {
     "name": "stdout",
     "output_type": "stream",
     "text": [
      "normal and zero:\n",
      " tensor([[ 0.4853,  0.7469,  1.0303,  0.7938],\n",
      "        [-0.9744, -0.2733,  1.3704,  0.2528],\n",
      "        [ 0.3121, -1.1431, -0.0885,  0.6332],\n",
      "        [-0.6108,  1.3921,  1.0519, -1.4050],\n",
      "        [-0.0691, -0.6566,  0.2556,  0.1244],\n",
      "        [-0.6161,  0.5901, -3.3487,  1.2075],\n",
      "        [-0.4881,  1.7317,  0.8372,  0.7963],\n",
      "        [ 0.8471, -1.2255, -0.5072,  0.1774]]) tensor([0., 0., 0., 0., 0., 0., 0., 0.])\n",
      "xavier and zero:\n",
      " tensor([ 0.4672,  0.0905, -0.2210,  0.4433], grad_fn=<SelectBackward0>) tensor(0., grad_fn=<SelectBackward0>)\n",
      "constants and zero:\n",
      " tensor([42., 42., 42., 42., 42., 42., 42., 42.], grad_fn=<SelectBackward0>) tensor(0., grad_fn=<SelectBackward0>)\n"
     ]
    }
   ],
   "source": [
    "# initialization\n",
    "# --------------\n",
    "\n",
    "# built-in initialization\n",
    "def init_params(m):\n",
    "    if type(m) == nn.Linear:\n",
    "        nn.init.normal_(m.weight, mean=0.0, std=1.0)\n",
    "        nn.init.zeros_(m.bias)\n",
    "\n",
    "net.apply(init_params)\n",
    "print('normal and zero:\\n', net[0].weight.data, net[0].bias.data)\n",
    "\n",
    "def init_xavier(m):\n",
    "    if type(m) == nn.Linear:\n",
    "        nn.init.xavier_uniform_(m.weight, gain=1.0)\n",
    "def init_42(m):\n",
    "    if type(m) == nn.Linear:\n",
    "        nn.init.constant_(m.weight, 42)\n",
    "\n",
    "net[0].apply(init_xavier)\n",
    "net[2].apply(init_42)\n",
    "print('xavier and zero:\\n', net[0].weight[0], net[0].bias[0])  # we can index weight and bias by list-like index: [n]\n",
    "print('constants and zero:\\n', net[2].weight[0], net[2].bias[0])"
   ]
  },
  {
   "cell_type": "code",
   "execution_count": 27,
   "metadata": {},
   "outputs": [
    {
     "name": "stdout",
     "output_type": "stream",
     "text": [
      "tensor([[-7.7351, -0.0000, -9.6666,  0.0000],\n",
      "        [ 0.0000, -0.0000, -0.0000, -5.6922]], grad_fn=<SliceBackward0>)\n",
      "tensor([True, True, True, True, True, True, True, True])\n",
      "tensor([True, True, True, True, True, True, True, True])\n"
     ]
    }
   ],
   "source": [
    "# self-customized\n",
    "def init_custom(m):\n",
    "    if type(m) == nn.Linear:\n",
    "        nn.init.uniform_(m.weight, a=-10, b=10)\n",
    "        m.weight.data *= m.weight.data.abs() > 5  # customed calculations of weight data\n",
    "net.apply(init_custom)\n",
    "print(net[0].weight[:2])\n",
    "\n",
    "# shared parameters' initialization\n",
    "shared = nn.Linear(8, 8)\n",
    "net = nn.Sequential(nn.Linear(4, 8), nn.ReLU(), \n",
    "                    shared, nn.ReLU(), \n",
    "                    shared, nn.ReLU(), \n",
    "                    nn.Linear(8, 1))\n",
    "net(X)\n",
    "# check if sharing same layer would share same paramters\n",
    "print(net[2].weight.data[0] == net[4].weight.data[0])  # yes\n",
    "net[2].weight.data[0, 0] = 100\n",
    "print(net[2].weight.data[0] == net[4].weight.data[0])  # even changes make the same, which means sharing the parameters"
   ]
  },
  {
   "cell_type": "code",
   "execution_count": 29,
   "metadata": {},
   "outputs": [
    {
     "name": "stdout",
     "output_type": "stream",
     "text": [
      "<UninitializedParameter>\n",
      "tensor([[-0.0591,  0.2954,  0.1913, -0.0738, -0.3221, -0.1195,  0.1166, -0.0271,\n",
      "         -0.2651,  0.3326],\n",
      "        [-0.0241,  0.3241,  0.1102, -0.2235, -0.3253, -0.1758,  0.0292,  0.0679,\n",
      "         -0.4163,  0.2853]], grad_fn=<AddmmBackward0>)\n",
      "torch.Size([256, 20])\n"
     ]
    }
   ],
   "source": [
    "# lazy initialization\n",
    "import torch\n",
    "from torch import nn\n",
    "from d2l import torch as d2l\n",
    "\n",
    "# lazyLinear()\n",
    "net = nn.Sequential(nn.LazyLinear(256), nn.ReLU(), nn.LazyLinear(10))\n",
    "print(net[0].weight)  # UnitializedParameter means that net have not \n",
    "                      # retreived a input to initialize weight shape.\n",
    "\n",
    "X = torch.rand(2, 20)\n",
    "print(net(X))\n",
    "print(net[0].weight.shape)      # now we can see how parameters are \n",
    "                                # initialized with shape of input X\n",
    "\n",
    "# custom way of lazy initialization\n",
    "@d2l.add_to_class(d2l.Module)  #@save\n",
    "def apply_init(self, inputs, init=None):\n",
    "    self.forward(*inputs)\n",
    "    if init is not None:\n",
    "        self.net.apply(init)"
   ]
  }
 ],
 "metadata": {
  "kernelspec": {
   "display_name": "Datawhale",
   "language": "python",
   "name": "datawhale"
  },
  "language_info": {
   "codemirror_mode": {
    "name": "ipython",
    "version": 3
   },
   "file_extension": ".py",
   "mimetype": "text/x-python",
   "name": "python",
   "nbconvert_exporter": "python",
   "pygments_lexer": "ipython3",
   "version": "3.10.12"
  },
  "orig_nbformat": 4
 },
 "nbformat": 4,
 "nbformat_minor": 2
}
