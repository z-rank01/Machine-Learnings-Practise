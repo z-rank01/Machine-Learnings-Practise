{
 "cells": [
  {
   "cell_type": "code",
   "execution_count": 3,
   "metadata": {},
   "outputs": [
    {
     "name": "stdout",
     "output_type": "stream",
     "text": [
      "tensor([-2., -1.,  0.,  1.,  2.])\n",
      "tensor([[ 0.7157, -0.5380, -0.2954,  ..., -0.3217,  0.1765,  0.4156],\n",
      "        [ 0.5206, -0.5326, -0.4781,  ..., -0.1824,  0.1855,  0.3475],\n",
      "        [ 0.6036, -0.4129, -0.5439,  ..., -0.2046,  0.1718,  0.6398],\n",
      "        ...,\n",
      "        [ 0.5362, -0.7078, -0.5000,  ..., -0.3100,  0.2452,  0.4090],\n",
      "        [ 0.4285, -0.3110, -0.5793,  ..., -0.2502,  0.3570,  0.6356],\n",
      "        [ 0.7316, -0.4105, -0.3695,  ..., -0.2492,  0.3032,  0.7442]],\n",
      "       grad_fn=<SubBackward0>)\n",
      "tensor(4.6566e-10, grad_fn=<MeanBackward0>)\n"
     ]
    }
   ],
   "source": [
    "# customize layer\n",
    "import torch\n",
    "from torch.nn import functional as f\n",
    "from torch import nn\n",
    "\n",
    "# simple example\n",
    "class centeredLayer(nn.Module):\n",
    "    def __init__(self) -> None:\n",
    "        super().__init__()\n",
    "\n",
    "    def forward(self, X):\n",
    "        return X - X.mean()  # forward function are automatically called when class is initialized\n",
    "\n",
    "\n",
    "layer = centeredLayer()\n",
    "print(layer(torch.FloatTensor([1, 2, 3, 4, 5])))  # call forward so we get [-2, -1, 0, 1, 2] results\n",
    "\n",
    "net = nn.Sequential(nn.Linear(8, 128), centeredLayer())\n",
    "y = net(torch.rand(16, 8))\n",
    "print(y)\n",
    "print(y.mean())  # bearly 0, which means centeredLayer works in sequential"
   ]
  },
  {
   "cell_type": "code",
   "execution_count": 7,
   "metadata": {},
   "outputs": [
    {
     "name": "stdout",
     "output_type": "stream",
     "text": [
      "Parameter containing:\n",
      "tensor([[0.7911, 0.7050, 0.8046],\n",
      "        [0.2476, 0.9851, 0.5565],\n",
      "        [0.4053, 0.5551, 0.1865],\n",
      "        [0.6024, 0.6224, 0.0948],\n",
      "        [0.4930, 0.4969, 0.4747]], requires_grad=True)\n",
      "tensor([[1.7427, 2.0683, 1.3792],\n",
      "        [1.6893, 1.7784, 1.2554]])\n",
      "tensor([[52.6111],\n",
      "        [57.7240]])\n"
     ]
    }
   ],
   "source": [
    "# customize parameters of layer\n",
    "class myLinear(nn.Module):\n",
    "    def __init__(self, in_units, units) -> None:\n",
    "        super().__init__()\n",
    "        self.weight = nn.Parameter(torch.rand(in_units, units))  # when we use nn.Parameter() function, \n",
    "                                                                 # pytorch automatically add them to module's parameters list\n",
    "        self.bias = nn.Parameter(torch.rand(units))\n",
    "    \n",
    "    def forward(self, X):\n",
    "        lin = torch.matmul(X, self.weight.data) + self.bias.data\n",
    "        return f.relu(lin)\n",
    "    \n",
    "linear = myLinear(5, 3)\n",
    "print(linear.weight)\n",
    "\n",
    "# call forward() function indicatively\n",
    "print(linear(torch.rand(2, 5)))\n",
    "\n",
    "# validated in sequentail\n",
    "net = nn.Sequential(myLinear(64, 8), myLinear(8, 1))\n",
    "print(net(torch.rand(2, 64)))"
   ]
  }
 ],
 "metadata": {
  "kernelspec": {
   "display_name": "Datawhale",
   "language": "python",
   "name": "datawhale"
  },
  "language_info": {
   "codemirror_mode": {
    "name": "ipython",
    "version": 3
   },
   "file_extension": ".py",
   "mimetype": "text/x-python",
   "name": "python",
   "nbconvert_exporter": "python",
   "pygments_lexer": "ipython3",
   "version": "3.10.12"
  },
  "orig_nbformat": 4
 },
 "nbformat": 4,
 "nbformat_minor": 2
}
