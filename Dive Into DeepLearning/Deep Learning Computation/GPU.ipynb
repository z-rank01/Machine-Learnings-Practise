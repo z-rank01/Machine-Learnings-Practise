{
 "cells": [
  {
   "cell_type": "code",
   "execution_count": 5,
   "metadata": {},
   "outputs": [
    {
     "name": "stdout",
     "output_type": "stream",
     "text": [
      "1\n",
      "cpu\n",
      "cuda\n",
      "cuda:0\n"
     ]
    }
   ],
   "source": [
    "# different device\n",
    "import torch\n",
    "from torch import nn\n",
    "\n",
    "# find GPU device number\n",
    "print(torch.cuda.device_count())\n",
    "\n",
    "# device type\n",
    "print(torch.device('cpu'))\n",
    "print(torch.device('cuda'))\n",
    "print(torch.device('cuda:0'))\n",
    "\n",
    "# define a function to try to use GPU otherwise CPU\n",
    "def get_GPU(index=0):\n",
    "    if torch.cuda.device_count() >= index + 1:\n",
    "        return torch.device(f'cuda:{index}')\n",
    "    else:\n",
    "        return torch.device('cpu')"
   ]
  },
  {
   "cell_type": "code",
   "execution_count": 14,
   "metadata": {},
   "outputs": [
    {
     "name": "stdout",
     "output_type": "stream",
     "text": [
      "cpu\n",
      "cuda:0\n",
      "tensor([1, 2, 3])\n",
      "tensor([1, 2, 3], device='cuda:0')\n",
      "tensor([[1., 2., 3.],\n",
      "        [1., 2., 3.]], device='cuda:0')\n",
      "True\n"
     ]
    }
   ],
   "source": [
    "# store and operate tensor on GPU\n",
    "x = torch.tensor([1, 2, 3])\n",
    "print(x.device)\n",
    "\n",
    "X = torch.zeros(2, 3, device=get_GPU())\n",
    "print(X.device)\n",
    "\n",
    "# copy data between different device\n",
    "Z = x.cuda(0)         # copy operation: from cpu to gpu\n",
    "print(x)\n",
    "print(Z)\n",
    "print(Z + X)\n",
    "print(Z.cuda() is Z)  # if tensor is in that device, \n",
    "                      # copy operation wont create or copy a new tensor"
   ]
  }
 ],
 "metadata": {
  "kernelspec": {
   "display_name": "Datawhale",
   "language": "python",
   "name": "datawhale"
  },
  "language_info": {
   "codemirror_mode": {
    "name": "ipython",
    "version": 3
   },
   "file_extension": ".py",
   "mimetype": "text/x-python",
   "name": "python",
   "nbconvert_exporter": "python",
   "pygments_lexer": "ipython3",
   "version": "3.10.12"
  },
  "orig_nbformat": 4
 },
 "nbformat": 4,
 "nbformat_minor": 2
}
