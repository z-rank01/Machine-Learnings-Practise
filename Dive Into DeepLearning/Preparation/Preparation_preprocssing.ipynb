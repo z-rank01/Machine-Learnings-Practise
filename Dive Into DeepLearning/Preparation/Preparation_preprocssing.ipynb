{
 "cells": [
  {
   "cell_type": "code",
   "execution_count": 27,
   "metadata": {},
   "outputs": [
    {
     "name": "stdout",
     "output_type": "stream",
     "text": [
      "   NumRooms Alley   Price\n",
      "0       NaN  Pave  127500\n",
      "1       2.0   NaN  106000\n",
      "2       4.0   NaN  178100\n",
      "3       NaN   NaN  140000\n"
     ]
    }
   ],
   "source": [
    "# preprocessing\n",
    "\n",
    "# create tiny dataset\n",
    "import os\n",
    "\n",
    "os.makedirs(os.path.join('data'), exist_ok=True)\n",
    "path = os.path.join('data', 'house_tiny.csv')\n",
    "with open(path, 'w') as f:\n",
    "    f.write('NumRooms,Alley,Price\\n')  # 列名\n",
    "    f.write('NA,Pave,127500\\n')  # 每行表示一个数据样本\n",
    "    f.write('2,NA,106000\\n')\n",
    "    f.write('4,NA,178100\\n')\n",
    "    f.write('NA,NA,140000\\n')\n",
    "\n",
    "import pandas as pd\n",
    "\n",
    "data = pd.read_csv(path)\n",
    "print(data)"
   ]
  },
  {
   "cell_type": "code",
   "execution_count": 35,
   "metadata": {},
   "outputs": [
    {
     "name": "stdout",
     "output_type": "stream",
     "text": [
      "2\n",
      "   NumRooms Alley   Price\n",
      "0       NaN  Pave  127500\n",
      "1       2.0   NaN  106000\n",
      "2       4.0   NaN  178100\n",
      "   NumRooms Alley   Price\n",
      "0       3.0  Pave  127500\n",
      "1       2.0   NaN  106000\n",
      "2       4.0   NaN  178100\n",
      "   NumRooms   Price  alley1_Pave  alley1_nan\n",
      "0       3.0  127500            1           0\n",
      "1       2.0  106000            0           1\n",
      "2       4.0  178100            0           1\n"
     ]
    },
    {
     "name": "stderr",
     "output_type": "stream",
     "text": [
      "C:\\Users\\12923\\AppData\\Local\\Temp\\ipykernel_14912\\4195655922.py:9: FutureWarning: The default value of numeric_only in DataFrame.mean is deprecated. In a future version, it will default to False. In addition, specifying 'numeric_only=None' is deprecated. Select only valid columns or specify the value of numeric_only to silence this warning.\n",
      "  new_data = new_data.fillna(new_data.mean())  # fill empty data with mean values but only for numerical data\n"
     ]
    }
   ],
   "source": [
    "# delete empty data\n",
    "null_idx = data.isnull().sum(axis=1).max()  # get number of NaN of sample having most NaN \n",
    "print(null_idx)\n",
    "new_data = data.copy()\n",
    "new_data = new_data.dropna(thresh=null_idx) # delete that sample having most NaN\n",
    "print(new_data)\n",
    "\n",
    "# insert numerical data by mean\n",
    "new_data = new_data.fillna(new_data.mean())  # fill empty data with mean values but only for numerical data\n",
    "print(new_data)\n",
    "\n",
    "# convert empty categorical or dispersed data into feature\n",
    "new_data = pd.get_dummies(new_data, prefix=['alley1'], dummy_na=True)\n",
    "print(new_data)"
   ]
  }
 ],
 "metadata": {
  "kernelspec": {
   "display_name": "Datawhale",
   "language": "python",
   "name": "datawhale"
  },
  "language_info": {
   "codemirror_mode": {
    "name": "ipython",
    "version": 3
   },
   "file_extension": ".py",
   "mimetype": "text/x-python",
   "name": "python",
   "nbconvert_exporter": "python",
   "pygments_lexer": "ipython3",
   "version": "3.10.12"
  },
  "orig_nbformat": 4
 },
 "nbformat": 4,
 "nbformat_minor": 2
}
