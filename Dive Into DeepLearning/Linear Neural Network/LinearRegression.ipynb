{
 "cells": [
  {
   "cell_type": "code",
   "execution_count": 2,
   "metadata": {},
   "outputs": [
    {
     "data": {
      "text/plain": [
       "<matplotlib.collections.PathCollection at 0x29002977670>"
      ]
     },
     "execution_count": 2,
     "metadata": {},
     "output_type": "execute_result"
    },
    {
     "data": {
      "image/png": "[encoded data removed]",
      "text/plain": [
       "<Figure size 640x480 with 1 Axes>"
      ]
     },
     "metadata": {},
     "output_type": "display_data"
    }
   ],
   "source": [
    "import torch\n",
    "import random\n",
    "import matplotlib.pyplot as plt\n",
    "\n",
    "# Manully generate a linearRegression single layer neural network\n",
    "# ---------------------------------------------------------------\n",
    "# datasets\n",
    "def synthetic_dataset(w, b, num_examples):\n",
    "    X = torch.normal(0, 1, (num_examples, len(w)))  # generate binary features\n",
    "    y = torch.matmul(X, w) + b  # generate labels\n",
    "    y += torch.normal(0, 0.01, y.shape)  # tune labels a little bit\n",
    "    return X, y.reshape((-1, 1))\n",
    "true_w = torch.tensor([2, -3.4])\n",
    "true_b = 4.2\n",
    "features, labels = synthetic_dataset(true_w, true_b, 1000)\n",
    "\n",
    "# visualization\n",
    "plt.scatter(features[:, 1].detach().numpy(), labels.detach().numpy(), 1)  # visualize the second feature and label to check linear correlation"
   ]
  },
  {
   "cell_type": "code",
   "execution_count": 3,
   "metadata": {},
   "outputs": [
    {
     "name": "stdout",
     "output_type": "stream",
     "text": [
      "tensor([[ 0.4746, -1.3997],\n",
      "        [-1.1092,  0.2116],\n",
      "        [ 0.5008,  0.5673],\n",
      "        [-1.1937, -0.7690],\n",
      "        [ 0.8587, -0.3110],\n",
      "        [ 1.4993, -0.2830],\n",
      "        [ 1.3540, -0.4267],\n",
      "        [-1.1843,  1.2639],\n",
      "        [ 1.6339,  0.0947],\n",
      "        [-2.0999, -1.3727]]) \n",
      " torch.Size([10, 2])\n",
      "tensor([[ 9.9185],\n",
      "        [ 1.2639],\n",
      "        [ 3.2731],\n",
      "        [ 4.4144],\n",
      "        [ 6.9762],\n",
      "        [ 8.1729],\n",
      "        [ 8.3738],\n",
      "        [-2.4670],\n",
      "        [ 7.1431],\n",
      "        [ 4.6744]]) \n",
      " torch.Size([10, 1])\n",
      "<generator object MSGD at 0x000002900291B990>\n"
     ]
    }
   ],
   "source": [
    "# Optimization: Mini-batch Stochastic Gradient Descent\n",
    "\n",
    "# Algorithm:\n",
    "# 1. randomize index of features\n",
    "# 2. iterate every batches coming from original feature list\n",
    "# 3. in every iteration, output indices of every batch\n",
    "def MSGD(features, labels, batch_size):\n",
    "    num_examples = len(features)         # get features size\n",
    "    indices = list(range(num_examples))  # get origninal indices\n",
    "    random.shuffle(indices)              # shuffle indices randomly\n",
    "    for i in range(0, num_examples, batch_size):   # for every batches, \n",
    "        batch_indces = torch.tensor(indices[i:min(i+batch_size, num_examples)])  # get every new random batches indices\n",
    "        yield features[batch_indces], labels[batch_indces]                       # return batches generator\n",
    "\n",
    "batch_size = 10\n",
    "for X, y in MSGD(features, labels, batch_size):\n",
    "    print(X,'\\n', X.shape)\n",
    "    print(y,'\\n', y.shape)\n",
    "    break\n",
    "print(MSGD(features, labels, batch_size))"
   ]
  },
  {
   "cell_type": "code",
   "execution_count": 4,
   "metadata": {},
   "outputs": [
    {
     "name": "stdout",
     "output_type": "stream",
     "text": [
      "epoch 1, loss 0.028493\n",
      "epoch 2, loss 0.000094\n",
      "epoch 3, loss 0.000048\n",
      "w estimated error: tensor([-1.9503e-04,  1.3828e-05], grad_fn=<SubBackward0>)\n",
      "b estimated error: tensor([0.0002], grad_fn=<RsubBackward1>):f\n"
     ]
    }
   ],
   "source": [
    "# Initialization of parameters\n",
    "# standard normal distribution: mean 0, std 0.01\n",
    "w = torch.normal(0 ,0.01, size=(2, 1), requires_grad=True)\n",
    "b = torch.zeros(1, requires_grad=True)\n",
    "\n",
    "# model algorithm\n",
    "def linearRegression(X, w, b):\n",
    "    return torch.matmul(X, w) + b\n",
    "\n",
    "# loss function\n",
    "def squared_loss(y_hat, y):\n",
    "    return (y_hat - y.reshape(y_hat.shape)) ** 2 / 2\n",
    "\n",
    "# optimization\n",
    "def optimize(params, learningRate, batch_size):\n",
    "    with torch.no_grad():\n",
    "        for param in params:\n",
    "            param -=learningRate * param.grad / batch_size  # update w and b with learning rate and batch size\n",
    "            param.grad.zero_()                              # reduction of gradient\n",
    "\n",
    "# training\n",
    "lr = 0.03\n",
    "epochs = 3\n",
    "\n",
    "# training algorithm\n",
    "# 1. predict y_hat\n",
    "# 2. compute loss \n",
    "# 3. compute gradient of loss\n",
    "# 4. optimize by reduction of gradients with learning rate and batch size\n",
    "for epoch in range(epochs):\n",
    "    for X, y in MSGD(features, labels, batch_size):\n",
    "        y_hat = linearRegression(X, w, b)\n",
    "        loss = squared_loss(y_hat, y)\n",
    "        loss.sum().backward()   # when start using backward(), torch will compute gradients underneath\n",
    "        optimize([w, b], lr, batch_size)\n",
    "    with torch.no_grad():       # using torch.no_grad() to stop gradient computing and reduce memory comsumption\n",
    "        train_loss = squared_loss(linearRegression(features, w, b), labels)\n",
    "        print(f'epoch {epoch + 1}, loss {float(train_loss.mean()):f}')\n",
    "\n",
    "print(f'w estimated error: {true_w - w.reshape(true_w.shape)}')\n",
    "print(f'b estimated error: {true_b - b}:f')"
   ]
  },
  {
   "cell_type": "code",
   "execution_count": 5,
   "metadata": {},
   "outputs": [
    {
     "data": {
      "text/plain": [
       "[tensor([[ 0.6542, -0.7904],\n",
       "         [ 0.8145, -1.3162],\n",
       "         [ 1.6109,  1.2233],\n",
       "         [ 0.5114,  0.5164],\n",
       "         [ 0.8379,  0.2587],\n",
       "         [-0.0665,  0.6003],\n",
       "         [-0.1344, -0.0620],\n",
       "         [-0.4113, -0.1173],\n",
       "         [ 0.8138,  1.5856],\n",
       "         [-0.6082,  0.9230]]),\n",
       " tensor([[ 8.2009],\n",
       "         [10.3037],\n",
       "         [ 3.2830],\n",
       "         [ 3.4759],\n",
       "         [ 4.9989],\n",
       "         [ 2.0324],\n",
       "         [ 4.1637],\n",
       "         [ 3.7757],\n",
       "         [ 0.4309],\n",
       "         [-0.1625]])]"
      ]
     },
     "execution_count": 5,
     "metadata": {},
     "output_type": "execute_result"
    }
   ],
   "source": [
    "import numpy as np\n",
    "import torch\n",
    "from torch.utils import data\n",
    "\n",
    "# Torch single layer neural network(linear regression)\n",
    "# --------------------\n",
    "\n",
    "# datasets\n",
    "true_w = torch.tensor([2, -3.4])\n",
    "true_b = 4.2\n",
    "features, labels = synthetic_dataset(true_w, true_b, 1000)\n",
    "\n",
    "# Mini-batch Stochastic Gradient Descent\n",
    "# 1. transform original dataset to torch's tensor dataset\n",
    "# 2. load dataset as batches using DataLoader\n",
    "def MSGD(dataset, batch_size, is_train=True):\n",
    "    dataset_tensor = data.TensorDataset(*dataset)\n",
    "    return data.DataLoader(dataset_tensor, batch_size, shuffle=is_train)\n",
    "\n",
    "batch_size = 10\n",
    "mini_dataset = MSGD((features, labels), batch_size)\n",
    "next(iter(mini_dataset))      # we use iterator and next to access first part of iteration of dataset"
   ]
  },
  {
   "cell_type": "code",
   "execution_count": 6,
   "metadata": {},
   "outputs": [
    {
     "name": "stdout",
     "output_type": "stream",
     "text": [
      "epoch 1, loss 0.000177\n",
      "epoch 2, loss 0.000099\n",
      "epoch 3, loss 0.000100\n",
      "w estimated error: tensor([-1.0536e-03,  9.9421e-05]):f\n",
      "b estimated error: tensor([-0.0005]):f\n"
     ]
    }
   ],
   "source": [
    "# model\n",
    "from torch import nn\n",
    "\n",
    "net = nn.Sequential(nn.Linear(2, 1))   # in_features(shape): int, out_features(shape): int\n",
    "\n",
    "# initialize parameters\n",
    "# 1. access weights of nn by net[layer].weight.data\n",
    "# 2. access bias of nn by net[layer].bias.data\n",
    "# 3. rewrite parameter by calling normal_ and fill_ function\n",
    "net[0].weight.data.normal_(0, 0.01)    # index[0] to access first layer of neural network\n",
    "net[0].bias.data.fill_(0)\n",
    "\n",
    "# loss function\n",
    "loss = nn.MSELoss()\n",
    "\n",
    "# optimization\n",
    "# 1. SGD function: parameters, learning rate\n",
    "# 2. access parameters by net.parameters() method\n",
    "optimization = torch.optim.SGD(net.parameters(), lr=0.03)\n",
    "\n",
    "# train\n",
    "epochs = 3\n",
    "for epoch in range(epochs):\n",
    "    for X, y in mini_dataset:\n",
    "        y_hat = net(X)\n",
    "        l = loss(y_hat, y)\n",
    "        optimization.zero_grad()\n",
    "        l.backward()\n",
    "        optimization.step()\n",
    "    l = loss(net(features), labels)\n",
    "    print(f'epoch {epoch + 1}, loss {l:f}')\n",
    "\n",
    "w = net[0].weight.data\n",
    "b = net[0].bias.data\n",
    "print(f'w estimated error: {true_w - w.reshape(true_w.shape)}:f')\n",
    "print(f'b estimated error: {true_b - b}:f')"
   ]
  }
 ],
 "metadata": {
  "kernelspec": {
   "display_name": "Datawhale",
   "language": "python",
   "name": "datawhale"
  },
  "language_info": {
   "codemirror_mode": {
    "name": "ipython",
    "version": 3
   },
   "file_extension": ".py",
   "mimetype": "text/x-python",
   "name": "python",
   "nbconvert_exporter": "python",
   "pygments_lexer": "ipython3",
   "version": "3.10.12"
  },
  "orig_nbformat": 4
 },
 "nbformat": 4,
 "nbformat_minor": 2
}
