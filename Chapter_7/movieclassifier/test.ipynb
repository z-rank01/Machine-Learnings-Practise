{
 "cells": [
  {
   "cell_type": "code",
   "execution_count": 5,
   "metadata": {},
   "outputs": [
    {
     "name": "stdout",
     "output_type": "stream",
     "text": [
      "Prediction: positive\n",
      "Probability: 95.55%\n"
     ]
    }
   ],
   "source": [
    "import pickle\n",
    "import re\n",
    "import os\n",
    "from vectorizer import hash_vect\n",
    "\n",
    "clf = pickle.load(open(os.path.join('pkl_objects', 'classifier.pkl'), 'rb'))\n",
    "\n",
    "import numpy as np\n",
    "\n",
    "label = {0:'negative', 1:'positive'}\n",
    "example = [\"I love this movie. It's amazing.\"]\n",
    "X = hash_vect.transform(example)\n",
    "print('Prediction: %s\\nProbability: %.2f%%' % (label[clf.predict(X)[0]], \n",
    "                                               np.max(clf.predict_proba(X)) * 100))"
   ]
  },
  {
   "cell_type": "code",
   "execution_count": 6,
   "metadata": {},
   "outputs": [],
   "source": [
    "# SQlite databse\n",
    "\n",
    "import sqlite3\n",
    "import os\n",
    "\n",
    "# 1. Create sqlite file(if not exists, create one)\n",
    "connect = sqlite3.connect('reviews.sqlite')\n",
    "\n",
    "# 2. Create cursor to query database\n",
    "cursor = connect.cursor()\n",
    "\n",
    "# 3. Create a new databse using cursor\n",
    "cursor.execute('DROP TABLE IF EXISTS review_db')\n",
    "cursor.execute(\"CREATE TABLE review_db\"\n",
    "               \"(review TEXT, sentiment INTEGER, date TEXT)\")\n",
    "\n",
    "# 4. Create samples and insert them into database\n",
    "sample1 = 'I love this movie!'\n",
    "cursor.execute(\"INSERT INTO review_db\"\n",
    "               \"(review, sentiment, date) VALUES\"\n",
    "               \"(?, ?, DATETIME('now'))\", (sample1, 1))   # (?, ?) matches (sample1, 1)\n",
    "\n",
    "sample2 = 'I disliked this movie...'\n",
    "cursor.execute(\"INSERT INTO review_db\"\n",
    "               \"(review, sentiment, date) VALUES\"\n",
    "               \"(?, ?, DATETIME('now'))\", (sample2, 0))\n",
    "\n",
    "# 5. Commit changes and save\n",
    "connect.commit()\n",
    "connect.close()"
   ]
  },
  {
   "cell_type": "code",
   "execution_count": 7,
   "metadata": {},
   "outputs": [
    {
     "name": "stdout",
     "output_type": "stream",
     "text": [
      "[('I love this movie!', 1, '2023-07-18 07:53:16'), ('I disliked this movie...', 0, '2023-07-18 07:53:16')]\n"
     ]
    }
   ],
   "source": [
    "# Check if successfully insert data into database\n",
    "\n",
    "connect = sqlite3.connect('reviews.sqlite')\n",
    "c = connect.cursor()\n",
    "c.execute(\"SELECT * FROM review_db WHERE date\"\n",
    "          \" BETWEEN '2017-01-01 00:00:00' AND DATETIME('now')\")\n",
    "result = c.fetchall()\n",
    "connect.close()\n",
    "print(result)"
   ]
  }
 ],
 "metadata": {
  "kernelspec": {
   "display_name": "env_datascience",
   "language": "python",
   "name": "env_datascience"
  },
  "language_info": {
   "codemirror_mode": {
    "name": "ipython",
    "version": 3
   },
   "file_extension": ".py",
   "mimetype": "text/x-python",
   "name": "python",
   "nbconvert_exporter": "python",
   "pygments_lexer": "ipython3",
   "version": "3.10.11"
  },
  "orig_nbformat": 4
 },
 "nbformat": 4,
 "nbformat_minor": 2
}
