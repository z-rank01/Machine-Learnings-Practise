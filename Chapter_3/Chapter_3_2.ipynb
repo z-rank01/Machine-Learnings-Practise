{
 "cells": [
  {
   "cell_type": "code",
   "execution_count": 44,
   "metadata": {},
   "outputs": [
    {
     "name": "stdout",
     "output_type": "stream",
     "text": [
      "    color size  price   label\n",
      "0   green    M   10.1  class2\n",
      "1     red    S    9.1  class3\n",
      "2    blue    L   12.9  class1\n",
      "3  yellow   XL   14.8  class1\n"
     ]
    }
   ],
   "source": [
    "# numerate string datasets\n",
    "# normally, we have ordinal feature and nominal feature\n",
    "# we use different way to transform these string features into numerical features\n",
    "import pandas as pd\n",
    "df = pd.DataFrame([['green', 'M', 10.1, 'class2'], \n",
    "                  ['red', 'S', 9.1, 'class3'], \n",
    "                  ['blue', 'L', 12.9, 'class1'],\n",
    "                  ['yellow', 'XL', 14.8, 'class1']])\n",
    "df.columns = ['color', 'size', 'price', 'label']\n",
    "print(df)"
   ]
  },
  {
   "cell_type": "code",
   "execution_count": 45,
   "metadata": {},
   "outputs": [
    {
     "name": "stdout",
     "output_type": "stream",
     "text": [
      "    color  size  price   label\n",
      "0   green     2   10.1  class2\n",
      "1     red     1    9.1  class3\n",
      "2    blue     3   12.9  class1\n",
      "3  yellow     4   14.8  class1 \n",
      "\n",
      "    color size  price   label\n",
      "0   green    M   10.1  class2\n",
      "1     red    S    9.1  class3\n",
      "2    blue    L   12.9  class1\n",
      "3  yellow   XL   14.8  class1 \n",
      "\n"
     ]
    }
   ],
   "source": [
    "# ordinal feature\n",
    "# ---------------\n",
    "\n",
    "# .map(): pandas dictionary function to map new numericak key to values in dataframe\n",
    "size_mapping = {'XL': 4, \n",
    "                'L' : 3, \n",
    "                'M' : 2, \n",
    "                'S' : 1}\n",
    "df['size'] = df['size'].map(size_mapping)\n",
    "print(df, '\\n')\n",
    "\n",
    "# create a inverse mapping dictionary to inverse the key and value\n",
    "inv_size_mapping = {v: k for k, v in size_mapping.items()}\n",
    "df['size'] = df['size'].map(inv_size_mapping)\n",
    "print(df, '\\n')"
   ]
  },
  {
   "cell_type": "code",
   "execution_count": 46,
   "metadata": {},
   "outputs": [
    {
     "name": "stdout",
     "output_type": "stream",
     "text": [
      "    color size  price  label\n",
      "0   green    M   10.1      1\n",
      "1     red    S    9.1      2\n",
      "2    blue    L   12.9      0\n",
      "3  yellow   XL   14.8      0 \n",
      "\n",
      "    color size  price   label\n",
      "0   green    M   10.1  class2\n",
      "1     red    S    9.1  class3\n",
      "2    blue    L   12.9  class1\n",
      "3  yellow   XL   14.8  class1 \n",
      "\n",
      "    color size  price  label\n",
      "0   green    M   10.1      1\n",
      "1     red    S    9.1      2\n",
      "2    blue    L   12.9      0\n",
      "3  yellow   XL   14.8      0\n"
     ]
    }
   ],
   "source": [
    "# nominal feature and label\n",
    "# -------------------------\n",
    "import numpy as np\n",
    "\n",
    "# .map() function again for nominal feature and label\n",
    "label_mapping = {label: idx for idx, label in enumerate(np.unique(df['label']))}\n",
    "df['label'] = df['label'].map(label_mapping)\n",
    "print(df, '\\n')\n",
    "\n",
    "# inverse agian\n",
    "inv_label_mapping = {v: k for k, v in label_mapping.items()}\n",
    "df['label'] = df['label'].map(inv_label_mapping)\n",
    "print(df, '\\n')\n",
    "\n",
    "# sklearn encoder method\n",
    "from sklearn.preprocessing import LabelEncoder\n",
    "LE = LabelEncoder()\n",
    "df['label'] = LE.fit_transform(df['label'].values)\n",
    "print(df)"
   ]
  },
  {
   "cell_type": "code",
   "execution_count": 47,
   "metadata": {},
   "outputs": [
    {
     "name": "stdout",
     "output_type": "stream",
     "text": [
      "[[0. 1. 0. 0.]\n",
      " [0. 0. 1. 0.]\n",
      " [1. 0. 0. 0.]\n",
      " [0. 0. 0. 1.]] \n",
      "\n",
      "[[0.0 1.0 0.0 0.0 'M' 10.1]\n",
      " [0.0 0.0 1.0 0.0 'S' 9.1]\n",
      " [1.0 0.0 0.0 0.0 'L' 12.9]\n",
      " [0.0 0.0 0.0 1.0 'XL' 14.8]] \n",
      "\n",
      "   price  color_blue  color_green  color_red  color_yellow  size_L  size_M  \\\n",
      "0   10.1           0            1          0             0       0       1   \n",
      "1    9.1           0            0          1             0       0       0   \n",
      "2   12.9           1            0          0             0       1       0   \n",
      "3   14.8           0            0          0             1       0       0   \n",
      "\n",
      "   size_S  size_XL  \n",
      "0       0        0  \n",
      "1       1        0  \n",
      "2       0        0  \n",
      "3       0        1  \n"
     ]
    }
   ],
   "source": [
    "# nominal problem 1\n",
    "# ---------------\n",
    "# mechine learning regard those nunmerical features as ordinal\n",
    "# we dont want nominal features to be regarded as ordinal after transformation\n",
    "\n",
    "# one-hot encoder\n",
    "# transform nominal feature into binary values\n",
    "# (only apply to single column)\n",
    "from sklearn.preprocessing import OneHotEncoder\n",
    "OHEncoder = OneHotEncoder()\n",
    "X = df[['color', 'size', 'price']].values\n",
    "OHE_outcome = OHEncoder.fit_transform(X[:, 0].reshape(-1, 1)).toarray()  # you can see color features are now represented in 4 bit number\n",
    "print(OHE_outcome, '\\n')\n",
    "\n",
    "# Column Transformer\n",
    "# shape: ('name', transformer/'passthrough', [columns])\n",
    "# (manipulate multiple columns)\n",
    "from sklearn.compose import ColumnTransformer\n",
    "CT = ColumnTransformer([('onehot', OneHotEncoder(), [0]), \n",
    "                        ('nothing', 'passthrough', [1, 2])])   # 'passthrough' to skip those columns not needing transformation\n",
    "CT_outcome = CT.fit_transform(X)\n",
    "print(CT_outcome, '\\n')\n",
    "\n",
    "# .dummies() pandas function\n",
    "# apply to all string columns, and transform them into binary type\n",
    "pd_outcome = pd.get_dummies(df[['color', 'size', 'price']])\n",
    "print(pd_outcome)"
   ]
  },
  {
   "cell_type": "code",
   "execution_count": 48,
   "metadata": {},
   "outputs": [
    {
     "name": "stdout",
     "output_type": "stream",
     "text": [
      "   price  color_green  color_red  color_yellow  size_M  size_S  size_XL\n",
      "0   10.1            1          0             0       1       0        0\n",
      "1    9.1            0          1             0       0       1        0\n",
      "2   12.9            0          0             0       0       0        0\n",
      "3   14.8            0          0             1       0       0        1 \n",
      "\n",
      "[[1.0 0.0 0.0 'M' 10.1]\n",
      " [0.0 1.0 0.0 'S' 9.1]\n",
      " [0.0 0.0 0.0 'L' 12.9]\n",
      " [0.0 0.0 1.0 'XL' 14.8]]\n"
     ]
    }
   ],
   "source": [
    "# nominal problem 2\n",
    "# -----------------\n",
    "# Multicollinearity, binary type data will be highly \n",
    "# relavant causing problem for metrices inverse\n",
    "\n",
    "# delete one of the binary values(columns) wont reduce\n",
    "# any information\n",
    "pd_outcome_drop1 = pd.get_dummies(df[['price', 'color', 'size']], drop_first=True) \n",
    "print(pd_outcome_drop1, '\\n')\n",
    "\n",
    "OHEncoder_drop1 = OneHotEncoder(categories='auto', drop='first')\n",
    "CT_drop1 = ColumnTransformer([('onehot', OHEncoder_drop1, [0]), \n",
    "                              ('nothing', 'passthrough', [1, 2])])\n",
    "CT_outcome_drop1 = CT_drop1.fit_transform(X)\n",
    "print(CT_outcome_drop1)"
   ]
  }
 ],
 "metadata": {
  "kernelspec": {
   "display_name": "env_datascience",
   "language": "python",
   "name": "env_datascience"
  },
  "language_info": {
   "codemirror_mode": {
    "name": "ipython",
    "version": 3
   },
   "file_extension": ".py",
   "mimetype": "text/x-python",
   "name": "python",
   "nbconvert_exporter": "python",
   "pygments_lexer": "ipython3",
   "version": "3.10.11"
  },
  "orig_nbformat": 4
 },
 "nbformat": 4,
 "nbformat_minor": 2
}
