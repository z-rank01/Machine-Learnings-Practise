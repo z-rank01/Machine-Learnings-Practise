{
 "cells": [
  {
   "cell_type": "code",
   "execution_count": 29,
   "metadata": {},
   "outputs": [
    {
     "name": "stdout",
     "output_type": "stream",
     "text": [
      "      A     B     C    D\n",
      "0   1.0   2.0   3.0  4.0\n",
      "1   5.0   6.0   NaN  8.0\n",
      "2  10.0  11.0  12.0  NaN \n",
      "\n",
      "List boolean value showing if value is NaN:\n",
      "        A      B      C      D\n",
      "0  False  False  False  False\n",
      "1  False  False   True  False\n",
      "2  False  False  False   True \n",
      "\n",
      "sum of NaN values in a column\n",
      " A    0\n",
      "B    0\n",
      "C    1\n",
      "D    1\n",
      "dtype: int64 \n",
      "\n"
     ]
    }
   ],
   "source": [
    "# clean up datasets\n",
    "import pandas as pd\n",
    "from io import StringIO\n",
    "\n",
    "csv_data = \\\n",
    "'''\n",
    "A,B,C,D\n",
    "1.0,2.0,3.0,4.0\n",
    "5.0,6.0,,8.0\n",
    "10.0,11.0,12.0,\n",
    "'''\n",
    "df = pd.read_csv(StringIO(csv_data))\n",
    "print(df, '\\n')\n",
    "print(\"List boolean value showing if value is NaN:\\n\", df.isnull(), '\\n')\n",
    "print(\"sum of NaN values in a column\\n\", df.isnull().sum(), '\\n')   \n",
    "# .isnull()\n",
    "# ---------\n",
    "# Convert true value into bool value\n",
    "# indicating that data is losted at any location"
   ]
  },
  {
   "cell_type": "code",
   "execution_count": 30,
   "metadata": {},
   "outputs": [
    {
     "name": "stdout",
     "output_type": "stream",
     "text": [
      "delete whole rows that have NaN:\n",
      "      A    B    C    D\n",
      "0  1.0  2.0  3.0  4.0 \n",
      "\n",
      "delete whole columns that have NaN:\n",
      "       A     B\n",
      "0   1.0   2.0\n",
      "1   5.0   6.0\n",
      "2  10.0  11.0 \n",
      "\n",
      "delete rows whose values are all NaN:\n",
      "       A     B     C    D\n",
      "0   1.0   2.0   3.0  4.0\n",
      "1   5.0   6.0   NaN  8.0\n",
      "2  10.0  11.0  12.0  NaN \n",
      "\n",
      "delete whole rows that have less than 'thresh' real values:\n",
      "      A    B    C    D\n",
      "0  1.0  2.0  3.0  4.0 \n",
      "\n",
      "delete whole rows that designated columns have NaN:\n",
      "      A    B    C    D\n",
      "0  1.0  2.0  3.0  4.0\n",
      "1  5.0  6.0  NaN  8.0\n"
     ]
    }
   ],
   "source": [
    "# Method 1: delete empty data\n",
    "print(\"delete whole rows that have NaN:\\n\", df.dropna(axis=0), '\\n')\n",
    "print(\"delete whole columns that have NaN:\\n\", df.dropna(axis=1), '\\n')\n",
    "print(\"delete rows whose values are all NaN:\\n\", df.dropna(how='all'), '\\n')  # in this situation delete nothing\n",
    "print(\"delete whole rows that have less than 'thresh' real values:\\n\", df.dropna(thresh=4), '\\n')\n",
    "print(\"delete whole rows that designated columns have NaN:\\n\", df.dropna(subset='D'))\n",
    "# .dropna()\n",
    "# ---------\n",
    "# axis: row or column(0 or 1)\n",
    "# how: drop NaN by strategy of 'all' etc\n",
    "# thresh: least real values number\n",
    "# subset: subsets column"
   ]
  },
  {
   "cell_type": "code",
   "execution_count": 31,
   "metadata": {},
   "outputs": [
    {
     "name": "stdout",
     "output_type": "stream",
     "text": [
      "[[ 1.   2.   3.   4. ]\n",
      " [ 5.   6.   7.5  8. ]\n",
      " [10.  11.  12.   6. ]]\n"
     ]
    }
   ],
   "source": [
    "# Method 2: fill up empty data\n",
    "from sklearn.impute import SimpleImputer\n",
    "import numpy as np\n",
    "imr = SimpleImputer(missing_values=np.nan, strategy='mean')  # availible: 'mean', 'median', 'most_frequent'\n",
    "imr = imr.fit(df.values)      # use .values to get numpy data structure\n",
    "imputed_data = imr.transform(df.values)\n",
    "print(imputed_data)"
   ]
  }
 ],
 "metadata": {
  "kernelspec": {
   "display_name": "env_datascience",
   "language": "python",
   "name": "env_datascience"
  },
  "language_info": {
   "name": "python",
   "version": "3.10.11"
  },
  "orig_nbformat": 4
 },
 "nbformat": 4,
 "nbformat_minor": 2
}
