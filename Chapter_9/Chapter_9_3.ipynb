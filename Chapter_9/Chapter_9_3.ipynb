{
 "cells": [
  {
   "cell_type": "code",
   "execution_count": 2,
   "metadata": {},
   "outputs": [
    {
     "name": "stdout",
     "output_type": "stream",
     "text": [
      "             A         B         C         D\n",
      "ID_0  6.964692  2.861393  2.268515  5.513148\n",
      "ID_1  7.194690  4.231065  9.807642  6.848297\n",
      "ID_2  4.809319  3.921175  3.431780  7.290497\n",
      "ID_3  4.385722  0.596779  3.980443  7.379954\n",
      "ID_4  1.824917  1.754518  5.315514  5.318276\n"
     ]
    }
   ],
   "source": [
    "# hierarchy cluster\n",
    "\n",
    "# agglomerative algorithm: \n",
    "# 1. single linkage\n",
    "# 2. complete linkage\n",
    "# 3. average linkage\n",
    "# 4. Ward linkage\n",
    "\n",
    "# complete linkage\n",
    "import pandas as pd\n",
    "import numpy as np\n",
    "\n",
    "# set up random data\n",
    "np.random.seed(123)\n",
    "variables = ['A', 'B', 'C', 'D']\n",
    "labels = ['ID_0', 'ID_1', 'ID_2', 'ID_3', 'ID_4']\n",
    "X = np.random.random_sample([5, 4]) * 10\n",
    "df = pd.DataFrame(X, columns=variables, index=labels)\n",
    "print(df)"
   ]
  },
  {
   "cell_type": "code",
   "execution_count": 3,
   "metadata": {},
   "outputs": [
    {
     "name": "stdout",
     "output_type": "stream",
     "text": [
      "distance vector: \n",
      " [7.78138585 3.20638852 4.26558613 6.0798549  6.82884905 7.43890053\n",
      " 7.58207906 3.39706892 4.58684723 3.73242731] \n",
      "\n",
      "symmetry distance matrix: \n",
      "           ID_0      ID_1      ID_2      ID_3      ID_4\n",
      "ID_0  0.000000  7.781386  3.206389  4.265586  6.079855\n",
      "ID_1  7.781386  0.000000  6.828849  7.438901  7.582079\n",
      "ID_2  3.206389  6.828849  0.000000  3.397069  4.586847\n",
      "ID_3  4.265586  7.438901  3.397069  0.000000  3.732427\n",
      "ID_4  6.079855  7.582079  4.586847  3.732427  0.000000\n"
     ]
    }
   ],
   "source": [
    "# compute distance matrix\n",
    "from scipy.spatial.distance import pdist, squareform\n",
    "\n",
    "dist_vector = pdist(df, metric='euclidean')\n",
    "symmetry_dist_matrix = pd.DataFrame(squareform(dist_vector), columns=labels, index=labels)\n",
    "print('distance vector: \\n', dist_vector, '\\n')\n",
    "print('symmetry distance matrix: \\n', symmetry_dist_matrix)"
   ]
  },
  {
   "cell_type": "code",
   "execution_count": 4,
   "metadata": {},
   "outputs": [
    {
     "name": "stdout",
     "output_type": "stream",
     "text": [
      "           label 1  label 2  distance  length of cluster\n",
      "cluster 1      0.0      2.0  3.206389                2.0\n",
      "cluster 2      3.0      4.0  3.732427                2.0\n",
      "cluster 3      5.0      6.0  6.079855                4.0\n",
      "cluster 4      1.0      7.0  7.781386                5.0\n"
     ]
    },
    {
     "data": {
      "image/png": "[encoded data removed]",
      "text/plain": [
       "<Figure size 640x480 with 1 Axes>"
      ]
     },
     "metadata": {},
     "output_type": "display_data"
    }
   ],
   "source": [
    "# construct cluster by complete linkage method\n",
    "import matplotlib.pyplot as plt\n",
    "from scipy.cluster.hierarchy import linkage, dendrogram\n",
    "\n",
    "clusters = linkage(dist_vector, method='complete')\n",
    "\n",
    "# visualize clusters with tree map\n",
    "cluster_pd = pd.DataFrame(clusters, columns=['label 1', 'label 2', 'distance', 'length of cluster'], \n",
    "                          index=['cluster %d' % (i+1) for i in range(clusters.shape[0])])\n",
    "cluster_gram = dendrogram(clusters, labels=labels)\n",
    "\n",
    "print(cluster_pd)\n",
    "plt.ylabel('Euclidean distance')\n",
    "plt.show()  # we can see the nearest cluster is 'ID_0 - ID_2' then 'ID_3 - ID_4'"
   ]
  },
  {
   "cell_type": "code",
   "execution_count": 5,
   "metadata": {},
   "outputs": [
    {
     "name": "stderr",
     "output_type": "stream",
     "text": [
      "C:\\Users\\12923\\AppData\\Local\\Temp\\ipykernel_21464\\219464767.py:21: UserWarning: FixedFormatter should only be used together with FixedLocator\n",
      "  heat.set_xticklabels([''] + list(sorted_gram.columns))\n",
      "C:\\Users\\12923\\AppData\\Local\\Temp\\ipykernel_21464\\219464767.py:22: UserWarning: FixedFormatter should only be used together with FixedLocator\n",
      "  heat.set_yticklabels([''] + list(sorted_gram.index))\n"
     ]
    },
    {
     "data": {
      "image/png": "[encoded data removed]",
      "text/plain": [
       "<Figure size 800x800 with 3 Axes>"
      ]
     },
     "metadata": {},
     "output_type": "display_data"
    }
   ],
   "source": [
    "# more imformative visualization: \n",
    "# heat map combined tree map\n",
    "\n",
    "# 1. create a blank canvas\n",
    "fig = plt.figure(figsize=(8, 8), facecolor='white')\n",
    "\n",
    "# 2. create tree map and heat map on the canvas using 'add_axes'\n",
    "tree = fig.add_axes([0.0, 0.1, 0.2, 0.6])  # [left, bottom, width, height]\n",
    "gram = dendrogram(clusters, orientation='left')  # rotate the dendrogram 90 degree\n",
    "\n",
    "heat = fig.add_axes([0.26, 0.1, 0.6, 0.6])\n",
    "sorted_gram = df.iloc[gram['leaves'][::-1]]\n",
    "map = heat.matshow(sorted_gram, interpolation='nearest', cmap='hot_r')\n",
    "fig.colorbar(map)\n",
    "\n",
    "tree.set_xticks([])\n",
    "tree.set_yticks([])\n",
    "for i in tree.spines.values():\n",
    "    i.set_visible(False)\n",
    "\n",
    "heat.set_xticklabels([''] + list(sorted_gram.columns))\n",
    "heat.set_yticklabels([''] + list(sorted_gram.index))\n",
    "plt.show()"
   ]
  },
  {
   "cell_type": "code",
   "execution_count": 6,
   "metadata": {},
   "outputs": [
    {
     "name": "stdout",
     "output_type": "stream",
     "text": [
      "Cluster labels(in 3): [2 1 2 0 0]\n",
      "Cluster labels(in 2): [0 1 0 0 0]\n"
     ]
    },
    {
     "name": "stderr",
     "output_type": "stream",
     "text": [
      "c:\\Users\\12923\\.conda\\envs\\env_datascience\\lib\\site-packages\\sklearn\\cluster\\_agglomerative.py:983: FutureWarning: Attribute `affinity` was deprecated in version 1.2 and will be removed in 1.4. Use `metric` instead\n",
      "  warnings.warn(\n",
      "c:\\Users\\12923\\.conda\\envs\\env_datascience\\lib\\site-packages\\sklearn\\cluster\\_agglomerative.py:983: FutureWarning: Attribute `affinity` was deprecated in version 1.2 and will be removed in 1.4. Use `metric` instead\n",
      "  warnings.warn(\n"
     ]
    }
   ],
   "source": [
    "# using scikit-learn\n",
    "from sklearn.cluster import AgglomerativeClustering\n",
    "\n",
    "ac = AgglomerativeClustering(n_clusters=3, \n",
    "                             affinity='euclidean', \n",
    "                             linkage='complete')\n",
    "labels_3 = ac.fit_predict(X)\n",
    "\n",
    "ac = AgglomerativeClustering(n_clusters=2, \n",
    "                             affinity='euclidean', \n",
    "                             linkage='complete')\n",
    "labels_2 = ac.fit_predict(X)\n",
    "\n",
    "print('Cluster labels(in 3): %s' % labels_3)\n",
    "print('Cluster labels(in 2): %s' % labels_2)"
   ]
  }
 ],
 "metadata": {
  "kernelspec": {
   "display_name": "env_datascience",
   "language": "python",
   "name": "env_datascience"
  },
  "language_info": {
   "codemirror_mode": {
    "name": "ipython",
    "version": 3
   },
   "file_extension": ".py",
   "mimetype": "text/x-python",
   "name": "python",
   "nbconvert_exporter": "python",
   "pygments_lexer": "ipython3",
   "version": "3.10.11"
  },
  "orig_nbformat": 4
 },
 "nbformat": 4,
 "nbformat_minor": 2
}
