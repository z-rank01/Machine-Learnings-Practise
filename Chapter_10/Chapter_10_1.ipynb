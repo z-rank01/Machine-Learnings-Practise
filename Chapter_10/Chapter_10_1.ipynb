{
 "cells": [
  {
   "cell_type": "code",
   "execution_count": null,
   "metadata": {},
   "outputs": [],
   "source": [
    "# MLP\n",
    "\n",
    "# load MNIST dataset\n"
   ]
  }
 ],
 "metadata": {
  "kernelspec": {
   "display_name": "env_datascience",
   "language": "python",
   "name": "env_datascience"
  },
  "language_info": {
   "name": "python",
   "version": "3.10.11"
  },
  "orig_nbformat": 4
 },
 "nbformat": 4,
 "nbformat_minor": 2
}
