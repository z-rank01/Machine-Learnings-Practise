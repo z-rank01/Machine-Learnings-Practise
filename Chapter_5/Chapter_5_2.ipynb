{
 "cells": [
  {
   "cell_type": "code",
   "execution_count": 23,
   "metadata": {},
   "outputs": [
    {
     "name": "stdout",
     "output_type": "stream",
     "text": [
      "         0  1      2      3       4       5        6        7       8   \\\n",
      "0    842302  M  17.99  10.38  122.80  1001.0  0.11840  0.27760  0.3001   \n",
      "1    842517  M  20.57  17.77  132.90  1326.0  0.08474  0.07864  0.0869   \n",
      "2  84300903  M  19.69  21.25  130.00  1203.0  0.10960  0.15990  0.1974   \n",
      "3  84348301  M  11.42  20.38   77.58   386.1  0.14250  0.28390  0.2414   \n",
      "4  84358402  M  20.29  14.34  135.10  1297.0  0.10030  0.13280  0.1980   \n",
      "\n",
      "        9   ...     22     23      24      25      26      27      28      29  \\\n",
      "0  0.14710  ...  25.38  17.33  184.60  2019.0  0.1622  0.6656  0.7119  0.2654   \n",
      "1  0.07017  ...  24.99  23.41  158.80  1956.0  0.1238  0.1866  0.2416  0.1860   \n",
      "2  0.12790  ...  23.57  25.53  152.50  1709.0  0.1444  0.4245  0.4504  0.2430   \n",
      "3  0.10520  ...  14.91  26.50   98.87   567.7  0.2098  0.8663  0.6869  0.2575   \n",
      "4  0.10430  ...  22.54  16.67  152.20  1575.0  0.1374  0.2050  0.4000  0.1625   \n",
      "\n",
      "       30       31  \n",
      "0  0.4601  0.11890  \n",
      "1  0.2750  0.08902  \n",
      "2  0.3613  0.08758  \n",
      "3  0.6638  0.17300  \n",
      "4  0.2364  0.07678  \n",
      "\n",
      "[5 rows x 32 columns]\n",
      "   0\n",
      "0  1\n",
      "1  1\n",
      "2  1\n",
      "3  1\n",
      "4  1\n"
     ]
    }
   ],
   "source": [
    "# Model and Parameter Selection\n",
    "\n",
    "# load new dataset\n",
    "import pandas as pd\n",
    "import numpy as np\n",
    "df = pd.read_csv('https://archive.ics.uci.edu/ml/machine-learning-databases/breast-cancer-wisconsin/wdbc.data', header=None)\n",
    "print(df.head())\n",
    "\n",
    "# classify label and feature\n",
    "X = df.iloc[:, 2:].values\n",
    "y = df.iloc[:, 1].values\n",
    "\n",
    "# encode the string label to numerical label\n",
    "from sklearn.preprocessing import LabelEncoder\n",
    "le = LabelEncoder()\n",
    "y = le.fit_transform(y)\n",
    "print(pd.DataFrame(y).head())\n",
    "\n",
    "# split dataset into training and testing\n",
    "from sklearn.model_selection import train_test_split\n",
    "X_train, X_test, y_train, y_test = train_test_split(X, y, test_size=0.2, random_state=1, stratify=y)\n",
    "X_train = pd.DataFrame(X_train).fillna(pd.DataFrame(X_train).mean()).values\n",
    "# y_train = pd.DataFrame(y_train).fillna(pd.DataFrame(y_train).mean()).values\n",
    "# print(pd.DataFrame(X_train).isnull().sum())\n",
    "# print(pd.DataFrame(y_train).isnull().sum())"
   ]
  },
  {
   "cell_type": "code",
   "execution_count": 24,
   "metadata": {},
   "outputs": [
    {
     "name": "stdout",
     "output_type": "stream",
     "text": [
      "best score:  0.9846859903381642\n",
      "best parameter:  {'svc__C': 100.0, 'svc__gamma': 0.001, 'svc__kernel': 'rbf'}\n",
      "test score:  0.9736842105263158\n"
     ]
    }
   ],
   "source": [
    "# Grid Search for selecting best hyper-parameters\n",
    "# -----------------------------------------\n",
    "\n",
    "from sklearn.preprocessing import StandardScaler\n",
    "from sklearn.pipeline import make_pipeline\n",
    "from sklearn.model_selection import GridSearchCV\n",
    "from sklearn.svm import SVC\n",
    "\n",
    "pipe_svc = make_pipeline(StandardScaler(), \n",
    "                         SVC(random_state=1))\n",
    "parameter_range = [0.0001, 0.001, 0.01, 0.1, \n",
    "                   1.0, 10.0, 100.0, 1000.0]\n",
    "parameter_grid = [{'svc__C':parameter_range, 'svc__kernel':['linear']}, \n",
    "                  {'svc__C':parameter_range, 'svc__gamma':parameter_range, 'svc__kernel':['rbf']}]\n",
    "gs_svc = GridSearchCV(estimator=pipe_svc, \n",
    "                      param_grid=parameter_grid, \n",
    "                      scoring='accuracy', \n",
    "                      cv=10, \n",
    "                      refit=True, \n",
    "                      n_jobs=-1)\n",
    "gs_svc = gs_svc.fit(X_train, y_train)\n",
    "gs_est = gs_svc.best_estimator_\n",
    "print('best score: ', gs_svc.best_score_)\n",
    "print('best parameter: ', gs_svc.best_params_)\n",
    "print('test score: ', gs_est.score(X_test, y_test))"
   ]
  },
  {
   "cell_type": "code",
   "execution_count": 25,
   "metadata": {},
   "outputs": [
    {
     "name": "stdout",
     "output_type": "stream",
     "text": [
      "SVC accuracy: 0.974 +/- 0.015\n",
      "DT accuracy: 0.934 +/- 0.016\n"
     ]
    }
   ],
   "source": [
    "# Nested Cross-Validation for selecting best model\n",
    "# ------------------------------------------------\n",
    "from sklearn.model_selection import cross_val_score\n",
    "from sklearn.tree import DecisionTreeClassifier\n",
    "import numpy as np\n",
    "\n",
    "gs_svc = GridSearchCV(estimator=pipe_svc, \n",
    "                      param_grid=parameter_grid, \n",
    "                      scoring='accuracy', \n",
    "                      cv=2)\n",
    "gs_dt = GridSearchCV(estimator=DecisionTreeClassifier(random_state=0), \n",
    "                     param_grid=[{'max_depth':[1, 2, 3, 4, 5, 6, 7, None]}], \n",
    "                     scoring='accuracy', \n",
    "                     cv=2)\n",
    "scores_svc = cross_val_score(gs_svc, X_train, y_train, \n",
    "                             scoring='accuracy', cv=5)\n",
    "scores_dt = cross_val_score(gs_dt, X_train, y_train, \n",
    "                            scoring='accuracy', cv=5)\n",
    "print('SVC accuracy: %.3f +/- %.3f' % (np.mean(scores_svc), np.std(scores_svc)))\n",
    "print('DT accuracy: %.3f +/- %.3f' % (np.mean(scores_dt), np.std(scores_dt)))\n"
   ]
  }
 ],
 "metadata": {
  "kernelspec": {
   "display_name": "env_datascience",
   "language": "python",
   "name": "env_datascience"
  },
  "language_info": {
   "codemirror_mode": {
    "name": "ipython",
    "version": 3
   },
   "file_extension": ".py",
   "mimetype": "text/x-python",
   "name": "python",
   "nbconvert_exporter": "python",
   "pygments_lexer": "ipython3",
   "version": "3.10.11"
  },
  "orig_nbformat": 4
 },
 "nbformat": 4,
 "nbformat_minor": 2
}
